{
 "cells": [
  {
   "cell_type": "code",
   "execution_count": 1,
   "metadata": {},
   "outputs": [],
   "source": [
    "import pandas as pd\n",
    "import matplotlib.pyplot as plt\n"
   ]
  },
  {
   "cell_type": "code",
   "execution_count": 2,
   "metadata": {},
   "outputs": [],
   "source": [
    "dfClientes = pd.read_excel('caso_estudo.xlsx', sheet_name='clientes')\n",
    "dfLojas = pd.read_excel('caso_estudo.xlsx', sheet_name='lojas')\n",
    "dfProdutos = pd.read_excel('caso_estudo.xlsx', sheet_name='produtos')\n",
    "dfVendas = pd.read_excel('caso_estudo.xlsx', sheet_name='vendas')\n",
    "dfPag = pd.read_excel('caso_estudo.xlsx', sheet_name='pagamentos')"
   ]
  },
  {
   "cell_type": "markdown",
   "metadata": {},
   "source": [
    "# Analise Preliminar \n"
   ]
  },
  {
   "cell_type": "code",
   "execution_count": 3,
   "metadata": {},
   "outputs": [
    {
     "data": {
      "text/html": [
       "<div>\n",
       "<style scoped>\n",
       "    .dataframe tbody tr th:only-of-type {\n",
       "        vertical-align: middle;\n",
       "    }\n",
       "\n",
       "    .dataframe tbody tr th {\n",
       "        vertical-align: top;\n",
       "    }\n",
       "\n",
       "    .dataframe thead th {\n",
       "        text-align: right;\n",
       "    }\n",
       "</style>\n",
       "<table border=\"1\" class=\"dataframe\">\n",
       "  <thead>\n",
       "    <tr style=\"text-align: right;\">\n",
       "      <th></th>\n",
       "      <th>id</th>\n",
       "      <th>nome</th>\n",
       "      <th>sexo</th>\n",
       "      <th>dt_nasc</th>\n",
       "    </tr>\n",
       "  </thead>\n",
       "  <tbody>\n",
       "    <tr>\n",
       "      <th>45</th>\n",
       "      <td>46</td>\n",
       "      <td>Isabela Pinto</td>\n",
       "      <td>F</td>\n",
       "      <td>11/10/1944</td>\n",
       "    </tr>\n",
       "    <tr>\n",
       "      <th>135</th>\n",
       "      <td>136</td>\n",
       "      <td>Leila Costa</td>\n",
       "      <td>F</td>\n",
       "      <td>11/14/1963</td>\n",
       "    </tr>\n",
       "    <tr>\n",
       "      <th>840</th>\n",
       "      <td>841</td>\n",
       "      <td>Brenda Melo</td>\n",
       "      <td>F</td>\n",
       "      <td>4/17/2003</td>\n",
       "    </tr>\n",
       "    <tr>\n",
       "      <th>409</th>\n",
       "      <td>410</td>\n",
       "      <td>Antônio Almeida</td>\n",
       "      <td>M</td>\n",
       "      <td>9/3/1981</td>\n",
       "    </tr>\n",
       "    <tr>\n",
       "      <th>204</th>\n",
       "      <td>205</td>\n",
       "      <td>Camila Araujo</td>\n",
       "      <td>F</td>\n",
       "      <td>10/3/1993</td>\n",
       "    </tr>\n",
       "  </tbody>\n",
       "</table>\n",
       "</div>"
      ],
      "text/plain": [
       "      id             nome sexo     dt_nasc\n",
       "45    46    Isabela Pinto    F  11/10/1944\n",
       "135  136      Leila Costa    F  11/14/1963\n",
       "840  841      Brenda Melo    F   4/17/2003\n",
       "409  410  Antônio Almeida    M    9/3/1981\n",
       "204  205    Camila Araujo    F   10/3/1993"
      ]
     },
     "execution_count": 3,
     "metadata": {},
     "output_type": "execute_result"
    }
   ],
   "source": [
    "dfClientes.sample(5)"
   ]
  },
  {
   "cell_type": "code",
   "execution_count": 4,
   "metadata": {},
   "outputs": [
    {
     "data": {
      "text/plain": [
       "id         0\n",
       "nome       4\n",
       "sexo       4\n",
       "dt_nasc    4\n",
       "dtype: int64"
      ]
     },
     "execution_count": 4,
     "metadata": {},
     "output_type": "execute_result"
    }
   ],
   "source": [
    "dfClientes.isnull().sum()"
   ]
  },
  {
   "cell_type": "code",
   "execution_count": 5,
   "metadata": {},
   "outputs": [
    {
     "data": {
      "text/html": [
       "<div>\n",
       "<style scoped>\n",
       "    .dataframe tbody tr th:only-of-type {\n",
       "        vertical-align: middle;\n",
       "    }\n",
       "\n",
       "    .dataframe tbody tr th {\n",
       "        vertical-align: top;\n",
       "    }\n",
       "\n",
       "    .dataframe thead th {\n",
       "        text-align: right;\n",
       "    }\n",
       "</style>\n",
       "<table border=\"1\" class=\"dataframe\">\n",
       "  <thead>\n",
       "    <tr style=\"text-align: right;\">\n",
       "      <th></th>\n",
       "      <th>id</th>\n",
       "      <th>nome</th>\n",
       "      <th>sexo</th>\n",
       "      <th>dt_nasc</th>\n",
       "    </tr>\n",
       "  </thead>\n",
       "  <tbody>\n",
       "    <tr>\n",
       "      <th>263</th>\n",
       "      <td>264</td>\n",
       "      <td>NaN</td>\n",
       "      <td>F</td>\n",
       "      <td>7/29/1997</td>\n",
       "    </tr>\n",
       "    <tr>\n",
       "      <th>264</th>\n",
       "      <td>265</td>\n",
       "      <td>NaN</td>\n",
       "      <td>M</td>\n",
       "      <td>2/7/1979</td>\n",
       "    </tr>\n",
       "    <tr>\n",
       "      <th>268</th>\n",
       "      <td>269</td>\n",
       "      <td>NaN</td>\n",
       "      <td>F</td>\n",
       "      <td>NaN</td>\n",
       "    </tr>\n",
       "    <tr>\n",
       "      <th>269</th>\n",
       "      <td>270</td>\n",
       "      <td>NaN</td>\n",
       "      <td>M</td>\n",
       "      <td>NaN</td>\n",
       "    </tr>\n",
       "    <tr>\n",
       "      <th>276</th>\n",
       "      <td>277</td>\n",
       "      <td>Brenda Santos</td>\n",
       "      <td>F</td>\n",
       "      <td>NaN</td>\n",
       "    </tr>\n",
       "    <tr>\n",
       "      <th>282</th>\n",
       "      <td>283</td>\n",
       "      <td>Amanda Barros</td>\n",
       "      <td>F</td>\n",
       "      <td>NaN</td>\n",
       "    </tr>\n",
       "    <tr>\n",
       "      <th>287</th>\n",
       "      <td>288</td>\n",
       "      <td>Victor Ribeiro</td>\n",
       "      <td>NaN</td>\n",
       "      <td>12/17/1974</td>\n",
       "    </tr>\n",
       "    <tr>\n",
       "      <th>290</th>\n",
       "      <td>291</td>\n",
       "      <td>Clara Pinto</td>\n",
       "      <td>NaN</td>\n",
       "      <td>12/25/1980</td>\n",
       "    </tr>\n",
       "    <tr>\n",
       "      <th>294</th>\n",
       "      <td>295</td>\n",
       "      <td>Tiago Lima</td>\n",
       "      <td>NaN</td>\n",
       "      <td>7/26/1973</td>\n",
       "    </tr>\n",
       "    <tr>\n",
       "      <th>301</th>\n",
       "      <td>302</td>\n",
       "      <td>Guilherme Cardoso</td>\n",
       "      <td>NaN</td>\n",
       "      <td>3/9/1998</td>\n",
       "    </tr>\n",
       "  </tbody>\n",
       "</table>\n",
       "</div>"
      ],
      "text/plain": [
       "      id               nome sexo     dt_nasc\n",
       "263  264                NaN    F   7/29/1997\n",
       "264  265                NaN    M    2/7/1979\n",
       "268  269                NaN    F         NaN\n",
       "269  270                NaN    M         NaN\n",
       "276  277      Brenda Santos    F         NaN\n",
       "282  283      Amanda Barros    F         NaN\n",
       "287  288     Victor Ribeiro  NaN  12/17/1974\n",
       "290  291        Clara Pinto  NaN  12/25/1980\n",
       "294  295         Tiago Lima  NaN   7/26/1973\n",
       "301  302  Guilherme Cardoso  NaN    3/9/1998"
      ]
     },
     "execution_count": 5,
     "metadata": {},
     "output_type": "execute_result"
    }
   ],
   "source": [
    "dfClientes[dfClientes.isnull().T.any()]"
   ]
  },
  {
   "cell_type": "code",
   "execution_count": 6,
   "metadata": {},
   "outputs": [
    {
     "data": {
      "text/plain": [
       "array(['F', 'M', nan], dtype=object)"
      ]
     },
     "execution_count": 6,
     "metadata": {},
     "output_type": "execute_result"
    }
   ],
   "source": [
    "dfClientes.sexo.unique()"
   ]
  },
  {
   "cell_type": "code",
   "execution_count": 7,
   "metadata": {},
   "outputs": [
    {
     "data": {
      "text/html": [
       "<div>\n",
       "<style scoped>\n",
       "    .dataframe tbody tr th:only-of-type {\n",
       "        vertical-align: middle;\n",
       "    }\n",
       "\n",
       "    .dataframe tbody tr th {\n",
       "        vertical-align: top;\n",
       "    }\n",
       "\n",
       "    .dataframe thead th {\n",
       "        text-align: right;\n",
       "    }\n",
       "</style>\n",
       "<table border=\"1\" class=\"dataframe\">\n",
       "  <thead>\n",
       "    <tr style=\"text-align: right;\">\n",
       "      <th></th>\n",
       "      <th>id</th>\n",
       "      <th>produto</th>\n",
       "      <th>valor</th>\n",
       "    </tr>\n",
       "  </thead>\n",
       "  <tbody>\n",
       "    <tr>\n",
       "      <th>0</th>\n",
       "      <td>1</td>\n",
       "      <td>mouse</td>\n",
       "      <td>20.0</td>\n",
       "    </tr>\n",
       "    <tr>\n",
       "      <th>1</th>\n",
       "      <td>2</td>\n",
       "      <td>teclado</td>\n",
       "      <td>30.0</td>\n",
       "    </tr>\n",
       "    <tr>\n",
       "      <th>2</th>\n",
       "      <td>3</td>\n",
       "      <td>laptop básico</td>\n",
       "      <td>2300.0</td>\n",
       "    </tr>\n",
       "    <tr>\n",
       "      <th>3</th>\n",
       "      <td>4</td>\n",
       "      <td>laptop gamer</td>\n",
       "      <td>5300.0</td>\n",
       "    </tr>\n",
       "    <tr>\n",
       "      <th>4</th>\n",
       "      <td>5</td>\n",
       "      <td>monitor</td>\n",
       "      <td>1500.0</td>\n",
       "    </tr>\n",
       "    <tr>\n",
       "      <th>5</th>\n",
       "      <td>6</td>\n",
       "      <td>impressora</td>\n",
       "      <td>700.0</td>\n",
       "    </tr>\n",
       "    <tr>\n",
       "      <th>6</th>\n",
       "      <td>7</td>\n",
       "      <td>carregador</td>\n",
       "      <td>150.0</td>\n",
       "    </tr>\n",
       "    <tr>\n",
       "      <th>7</th>\n",
       "      <td>8</td>\n",
       "      <td>cadeira</td>\n",
       "      <td>540.0</td>\n",
       "    </tr>\n",
       "    <tr>\n",
       "      <th>8</th>\n",
       "      <td>9</td>\n",
       "      <td>mesa</td>\n",
       "      <td>860.0</td>\n",
       "    </tr>\n",
       "    <tr>\n",
       "      <th>9</th>\n",
       "      <td>10</td>\n",
       "      <td>xxx-231a</td>\n",
       "      <td>3211352.0</td>\n",
       "    </tr>\n",
       "  </tbody>\n",
       "</table>\n",
       "</div>"
      ],
      "text/plain": [
       "   id        produto      valor\n",
       "0   1          mouse       20.0\n",
       "1   2        teclado       30.0\n",
       "2   3  laptop básico     2300.0\n",
       "3   4   laptop gamer     5300.0\n",
       "4   5        monitor     1500.0\n",
       "5   6     impressora      700.0\n",
       "6   7     carregador      150.0\n",
       "7   8        cadeira      540.0\n",
       "8   9           mesa      860.0\n",
       "9  10       xxx-231a  3211352.0"
      ]
     },
     "execution_count": 7,
     "metadata": {},
     "output_type": "execute_result"
    }
   ],
   "source": [
    "dfProdutos"
   ]
  },
  {
   "cell_type": "code",
   "execution_count": 8,
   "metadata": {},
   "outputs": [
    {
     "data": {
      "image/png": "iVBORw0KGgoAAAANSUhEUgAAAiMAAAGsCAYAAAAPJKchAAAAOXRFWHRTb2Z0d2FyZQBNYXRwbG90bGliIHZlcnNpb24zLjguMiwgaHR0cHM6Ly9tYXRwbG90bGliLm9yZy8g+/7EAAAACXBIWXMAAA9hAAAPYQGoP6dpAAAijklEQVR4nO3dbXBU5cH/8d8mxI0RNkKRJECAaBR5COFRCd48xJLEhFJSbihFHFDB+bcFBxudTmOtmtqSdiSUzpSKDFWGjhEKhtjGgFmjJEFCFSRToEhBkTCSBCiSJYkux939v3BYzU0C2STkMsv3M8OLvfY6u9e+ONkv55zdtfl8Pp8AAAAMCTG9AAAAcH0jRgAAgFHECAAAMIoYAQAARhEjAADAKGIEAAAYRYwAAACjiBEAAGAUMQIAAIwiRgAAgFHdKkbKy8s1c+ZM9e/fXzabTYWFhQE/hs/n08qVK3XHHXfIbrdrwIAB+u1vf9v5iwUAAG3Sw/QCAtHY2KjExEQ9/PDDmj17drseY/ny5SopKdHKlSuVkJCgc+fO6dy5c528UgAA0Fa27vpDeTabTdu2bVNmZqZ/zO1265e//KVeffVVnT9/XiNHjtTvf/97TZs2TZJ0+PBhjRo1SgcPHtTQoUPNLBwAADTTrU7TXM2yZctUWVmpTZs26V//+pfmzp2r++67T0ePHpUk/eMf/9Ctt96qoqIixcXFaciQIVqyZAlHRgAAMChoYqS6ulovv/yytmzZosmTJ+u2227TE088of/5n//Ryy+/LEn6+OOPdeLECW3ZskUbN27Uhg0btG/fPs2ZM8fw6gEAuH51q2tGruTAgQPyeDy64447mo273W595zvfkSR5vV653W5t3LjRP+8vf/mLxo0bpyNHjnDqBgAAA4ImRhoaGhQaGqp9+/YpNDS02X09e/aUJMXExKhHjx7NgmXYsGGSvjqyQowAAND1giZGxowZI4/Ho9OnT2vy5Mktzrnnnnv05Zdf6qOPPtJtt90mSfrPf/4jSRo8eHCXrRUAAHytW32apqGhQceOHZP0VXysWrVKycnJ6tOnjwYNGqQHHnhA7777rvLy8jRmzBidOXNGpaWlGjVqlGbMmCGv16sJEyaoZ8+eWr16tbxer5YuXSqHw6GSkhLDrw4AgOtTt4qRnTt3Kjk5+bLxRYsWacOGDbIsS7/5zW+0ceNGffrpp+rbt68mTpyonJwcJSQkSJJOnTqlRx99VCUlJbrpppuUnp6uvLw89enTp6tfDgAAUDeLEQAAEHyC5qO9AACgeyJGAACAUd3i0zRer1enTp1Sr169ZLPZTC8HAAC0gc/n04ULF9S/f3+FhLR+/KNbxMipU6cUGxtrehkAAKAdTp48qYEDB7Z6f7eIkV69ekn66sU4HA7DqwHQmSzLUklJiVJTUxUWFmZ6OQA6kcvlUmxsrP99vDXdIkYunZpxOBzECBBkLMtSRESEHA4HMQIEqatdYsEFrAAAwChiBAAAGEWMAAAAo4gRAABgFDECAACMIkYAAIBRxAgAADCKGAEAAEYRIwCM8Xg8KisrU3l5ucrKyuTxeEwvCYABxAgAIwoKChQfH6+UlBStWrVKKSkpio+PV0FBgemlAehixAiALldQUKA5c+YoISFBFRUVevXVV1VRUaGEhATNmTOHIAGuMzafz+czvYircblcioyMVH19Pb9NA3RzHo9H8fHxSkhIUGFhoTwej4qLi5WRkaHQ0FBlZmbq4MGDOnr0qEJDQ00vF0AHtPX9myMjALpURUWFPvnkEz355JMKCWn+JygkJETZ2dk6fvy4KioqDK0QQFcjRgB0qZqaGknSyJEjW7z/0vileQCCHzECoEvFxMRIkg4ePNji/ZfGL80DEPyIEQBdavLkyRoyZIhWrFghr9fb7D6v16vc3FzFxcVp8uTJhlYIoKsRIwC6VGhoqPLy8lRUVKTMzEzt2bNHn3/+ufbs2aPMzEwVFRVp5cqVXLwKXEd6mF4AgOvP7NmztXXrVj3++OOaMmWKfzwuLk5bt27V7NmzDa4OQFfjo70AjPF4PHrnnXe0fft2paenKzk5mSMiQBBp6/s3R0YAGBMaGqqpU6eqsbFRU6dOJUSA6xTXjAAAAKOIEQAAYBQxAgAAjCJGAACAUcQIAAAwihgBAABGESMAAMAoYgQAABhFjAAAAKOIEQAAYBQxAgAAjCJGAACAUQHFyAsvvKBRo0bJ4XDI4XAoKSlJ27dvv+I2W7Zs0Z133qnw8HAlJCSouLi4QwsGAADBJaAYGThwoH73u99p37592rt3r+69917NmjVLhw4danH+7t27NX/+fC1evFj79+9XZmamMjMzdfDgwU5ZPAAA6P5sPp/P15EH6NOnj55//nktXrz4svvmzZunxsZGFRUV+ccmTpyo0aNHa+3atW1+DpfLpcjISNXX18vhcHRkuQC+ZSzLUnFxsTIyMhQWFmZ6OQA6UVvfv3u09wk8Ho+2bNmixsZGJSUltTinsrJSWVlZzcbS0tJUWFh4xcd2u91yu93+2y6XS9JXf7Qsy2rvkgF8C13ap9m3geDT1v064Bg5cOCAkpKS9MUXX6hnz57atm2bhg8f3uLc2tpaRUVFNRuLiopSbW3tFZ8jNzdXOTk5l42XlJQoIiIi0CUD6AacTqfpJQDoZE1NTW2aF3CMDB06VFVVVaqvr9fWrVu1aNEilZWVtRok7ZGdnd3siIrL5VJsbKxSU1M5TQMEGcuy5HQ6lZKSwmkaIMhcOrNxNQHHyA033KD4+HhJ0rhx4/T+++/rj3/8o1588cXL5kZHR6uurq7ZWF1dnaKjo6/4HHa7XXa7/bLxsLAw/lgBQYr9Gwg+bd2nO/w9I16vt9n1Hd+UlJSk0tLSZmNOp7PVa0wAAMD1J6AjI9nZ2UpPT9egQYN04cIF5efna+fOnXrzzTclSQsXLtSAAQOUm5srSVq+fLmmTp2qvLw8zZgxQ5s2bdLevXu1bt26zn8lAACgWwooRk6fPq2FCxeqpqZGkZGRGjVqlN58802lpKRIkqqrqxUS8vXBlkmTJik/P19PPfWUnnzySd1+++0qLCzUyJEjO/dVAACAbqvD3zPSFfieESB48T0jQPBq6/s3v00DAACMIkYAAIBRxAgAADCKGAEAAEYRIwAAwChiBAAAGEWMAAAAo4gRAABgFDECAACMIkYAAIBRxAgAADCKGAEAAEYRIwAAwChiBAAAGEWMAAAAo4gRAABgFDECAACMIkYAAIBRxAgAADCKGAEAAEYRIwAAwChiBAAAGEWMAAAAo4gRAABgFDECAACMIkYAAIBRxAgAADCKGAEAAEYRIwAAwChiBAAAGEWMAAAAo4gRAABgFDECAACMIkYAAIBRxAgAADCKGAEAAEYRIwAAwChiBAAAGEWMAAAAo4gRAABgFDECAACMCihGcnNzNWHCBPXq1Uv9+vVTZmamjhw5csVtNmzYIJvN1uxfeHh4hxYNAACCR0AxUlZWpqVLl2rPnj1yOp2yLEupqalqbGy84nYOh0M1NTX+fydOnOjQogEAQPDoEcjkHTt2NLu9YcMG9evXT/v27dOUKVNa3c5msyk6Orp9KwQAAEEtoBj5v+rr6yVJffr0ueK8hoYGDR48WF6vV2PHjtWKFSs0YsSIVue73W653W7/bZfLJUmyLEuWZXVkyQC+ZS7t0+zbQPBp635t8/l8vvY8gdfr1fe//32dP39eu3btanVeZWWljh49qlGjRqm+vl4rV65UeXm5Dh06pIEDB7a4zbPPPqucnJzLxvPz8xUREdGe5QIAgC7W1NSk+++/X/X19XI4HK3Oa3eM/OQnP9H27du1a9euVqOiJZZladiwYZo/f76ee+65Fue0dGQkNjZWZ8+eveKLAdD9WJYlp9OplJQUhYWFmV4OgE7kcrnUt2/fq8ZIu07TLFu2TEVFRSovLw8oRCQpLCxMY8aM0bFjx1qdY7fbZbfbW9yWP1ZAcGL/BoJPW/fpgD5N4/P5tGzZMm3btk1vv/224uLiAl6Yx+PRgQMHFBMTE/C2AAAg+AR0ZGTp0qXKz8/X66+/rl69eqm2tlaSFBkZqRtvvFGStHDhQg0YMEC5ubmSpF//+teaOHGi4uPjdf78eT3//PM6ceKElixZ0skvBQAAdEcBxcgLL7wgSZo2bVqz8ZdfflkPPvigJKm6ulohIV8fcPnss8/0yCOPqLa2Vr1799a4ceO0e/duDR8+vGMrBwAAQaHdF7B2JZfLpcjIyKteAAOg+7EsS8XFxcrIyOCaESDItPX9m9+mAQAARhEjAADAKGIEAAAYRYwAAACjiBEAAGAUMQIAAIwiRgAAgFHECAAAMIoYAQAARhEjAADAKGIEAAAYRYwAAACjiBEAAGAUMQIAAIwiRgAAgFHECAAAMIoYAQAARhEjAADAKGIEAAAYRYwAAACjiBEAAGAUMQIAAIwiRgAAgFHECAAAMIoYAQAARhEjAADAKGIEAAAYRYwAAACjiBEAAGAUMQIAAIwiRgAAgFHECAAAMIoYAQAARhEjAADAKGIEAAAYRYwAAACjiBEAAGAUMQIAAIwiRgAAgFHECAAAMIoYAQAARgUUI7m5uZowYYJ69eqlfv36KTMzU0eOHLnqdlu2bNGdd96p8PBwJSQkqLi4uN0LBgAAwSWgGCkrK9PSpUu1Z88eOZ1OWZal1NRUNTY2trrN7t27NX/+fC1evFj79+9XZmamMjMzdfDgwQ4vHgAAdH82n8/na+/GZ86cUb9+/VRWVqYpU6a0OGfevHlqbGxUUVGRf2zixIkaPXq01q5d26bncblcioyMVH19vRwOR3uXC+BbyLIsFRcXKyMjQ2FhYaaXA6ATtfX9u0dHnqS+vl6S1KdPn1bnVFZWKisrq9lYWlqaCgsLW93G7XbL7Xb7b7tcLklf/dGyLKsDKwbwbXNpn2bfBoJPW/frdseI1+vVY489pnvuuUcjR45sdV5tba2ioqKajUVFRam2trbVbXJzc5WTk3PZeElJiSIiItq7ZADfYk6n0/QSAHSypqamNs1rd4wsXbpUBw8e1K5du9r7EK3Kzs5udjTF5XIpNjZWqampnKYBgoxlWXI6nUpJSeE0DRBkLp3ZuJp2xciyZctUVFSk8vJyDRw48Ipzo6OjVVdX12ysrq5O0dHRrW5jt9tlt9svGw8LC+OPFRCk2L+B4NPWfTqgT9P4fD4tW7ZM27Zt09tvv624uLirbpOUlKTS0tJmY06nU0lJSYE8NQAACFIBHRlZunSp8vPz9frrr6tXr17+6z4iIyN14403SpIWLlyoAQMGKDc3V5K0fPlyTZ06VXl5eZoxY4Y2bdqkvXv3at26dZ38UgAAQHcU0JGRF154QfX19Zo2bZpiYmL8/zZv3uyfU11drZqaGv/tSZMmKT8/X+vWrVNiYqK2bt2qwsLCK170CgAArh8BHRlpy1eS7Ny587KxuXPnau7cuYE8FQAAuE7w2zQAAMAoYgQAABhFjAAAAKOIEQAAYBQxAgAAjCJGAACAUcQIAAAwihgBAABGESMAAMAoYgQAABhFjAAAAKOIEQAAYBQxAgAAjCJGAACAUcQIAAAwihgBAABGESMAAMAoYgQAABhFjAAAAKOIEQAAYBQxAgAAjCJGAACAUcQIAAAwihgBAABGESMAAMAoYgQAABhFjAAAAKOIEQAAYBQxAgAAjCJGAACAUcQIAAAwihgBAABGESMAAMAoYgQAABhFjAAAAKOIEQAAYBQxAgAAjCJGAACAUcQIAAAwihgBAABGESMAAMAoYgQAABgVcIyUl5dr5syZ6t+/v2w2mwoLC684f+fOnbLZbJf9q62tbe+aAQBAEAk4RhobG5WYmKg1a9YEtN2RI0dUU1Pj/9evX79AnxoAAAShHoFukJ6ervT09ICfqF+/frr55psD3g4AAAS3gGOkvUaPHi23262RI0fq2Wef1T333NPqXLfbLbfb7b/tcrkkSZZlybKsa75WAF3n0j7Nvg0En7bu19c8RmJiYrR27VqNHz9ebrdb69ev17Rp0/TPf/5TY8eObXGb3Nxc5eTkXDZeUlKiiIiIa71kAAY4nU7TSwDQyZqamto0z+bz+XztfRKbzaZt27YpMzMzoO2mTp2qQYMG6a9//WuL97d0ZCQ2NlZnz56Vw+Fo73IBfAtZliWn06mUlBSFhYWZXg6ATuRyudS3b1/V19df8f27y07TfNNdd92lXbt2tXq/3W6X3W6/bDwsLIw/VkCQYv8Ggk9b92kj3zNSVVWlmJgYE08NAAC+ZQI+MtLQ0KBjx475bx8/flxVVVXq06ePBg0apOzsbH366afauHGjJGn16tWKi4vTiBEj9MUXX2j9+vV6++23VVJS0nmvAgAAdFsBx8jevXuVnJzsv52VlSVJWrRokTZs2KCamhpVV1f777948aIef/xxffrpp4qIiNCoUaP01ltvNXsMAABw/erQBaxdxeVyKTIy8qoXwADofizLUnFxsTIyMrhmBAgybX3/5rdpAACAUcQIAAAwihgBAABGESMAAMAoYgQAABhFjAAAAKOIEQAAYBQxAgAAjCJGAACAUcQIAAAwihgBAABGESMAAMAoYgQAABhFjAAAAKOIEQAAYBQxAgAAjCJGAACAUcQIAAAwihgBAABGESMAAMAoYgQAABhFjAAAAKOIEQAAYBQxAgAAjCJGAACAUcQIAAAwihgBAABGESMAAMAoYgQAABhFjAAAAKOIEQAAYBQxAgAAjCJGAACAUcQIAAAwihgBAABGESMAAMAoYgQAABhFjAAAAKOIEQAAYBQxAgAAjCJGAACAUQHHSHl5uWbOnKn+/fvLZrOpsLDwqtvs3LlTY8eOld1uV3x8vDZs2NCOpQIAgGAUcIw0NjYqMTFRa9asadP848ePa8aMGUpOTlZVVZUee+wxLVmyRG+++WbAiwUAAMGnR6AbpKenKz09vc3z165dq7i4OOXl5UmShg0bpl27dukPf/iD0tLSAn16AAAQZAKOkUBVVlZq+vTpzcbS0tL02GOPtbqN2+2W2+3233a5XJIky7JkWdY1WScAMy7t0+zbQPBp6359zWOktrZWUVFRzcaioqLkcrn0+eef68Ybb7xsm9zcXOXk5Fw2XlJSooiIiGu2VgDmOJ1O00sA0MmampraNO+ax0h7ZGdnKysry3/b5XIpNjZWqampcjgcBlcGoLNZliWn06mUlBSFhYWZXg6ATnTpzMbVXPMYiY6OVl1dXbOxuro6ORyOFo+KSJLdbpfdbr9sPCwsjD9WQJBi/waCT1v36Wv+PSNJSUkqLS1tNuZ0OpWUlHStnxoAAHQDAcdIQ0ODqqqqVFVVJemrj+5WVVWpurpa0lenWBYuXOif/+Mf/1gff/yxfv7zn+vDDz/Un//8Z/3tb3/Tz372s855BQAAoFsLOEb27t2rMWPGaMyYMZKkrKwsjRkzRk8//bQkqaamxh8mkhQXF6c33nhDTqdTiYmJysvL0/r16/lYLwAAkNSOa0amTZsmn8/X6v0tfbvqtGnTtH///kCfCgAAXAf4bRoAAGAUMQIAAIwiRgAAgFHECAAAMIoYAQAARhEjAADAKGIEAAAYRYwAAACjiBEAAGAUMQIAAIwiRgAAgFHECAAAMIoYAQAARhEjAADAKGIEAAAYRYwAAACjiBEAAGAUMQIAAIwiRgAAgFHECAAAMIoYAQAARhEjAADAKGIEAAAYRYwAAACjiBEAAGAUMQIAAIwiRgAAgFHECAAAMIoYAQAARhEjAADAKGIEAAAYRYwAAACjiBEAAGAUMQIAAIwiRgAAgFHECAAAMIoYAQAARhEjAADAKGIEAAAYRYwAAACjiBEAAGBUu2JkzZo1GjJkiMLDw3X33Xfrvffea3Xuhg0bZLPZmv0LDw9v94IBAEBwCThGNm/erKysLD3zzDP64IMPlJiYqLS0NJ0+fbrVbRwOh2pqavz/Tpw40aFFAwCA4BFwjKxatUqPPPKIHnroIQ0fPlxr165VRESEXnrppVa3sdlsio6O9v+Liorq0KIBAEDw6BHI5IsXL2rfvn3Kzs72j4WEhGj69OmqrKxsdbuGhgYNHjxYXq9XY8eO1YoVKzRixIhW57vdbrndbv9tl8slSbIsS5ZlBbJkAN9yl/Zp9m0g+LR1vw4oRs6ePSuPx3PZkY2oqCh9+OGHLW4zdOhQvfTSSxo1apTq6+u1cuVKTZo0SYcOHdLAgQNb3CY3N1c5OTmXjZeUlCgiIiKQJQPoJpxOp+klAOhkTU1NbZoXUIy0R1JSkpKSkvy3J02apGHDhunFF1/Uc8891+I22dnZysrK8t92uVyKjY1VamqqHA7HtV4ygC5kWZacTqdSUlIUFhZmejkAOtGlMxtXE1CM9O3bV6Ghoaqrq2s2XldXp+jo6DY9RlhYmMaMGaNjx461Osdut8tut7e4LX+sgODE/g0En7bu0wFdwHrDDTdo3LhxKi0t9Y95vV6VlpY2O/pxJR6PRwcOHFBMTEwgTw0AAIJUwKdpsrKytGjRIo0fP1533XWXVq9ercbGRj300EOSpIULF2rAgAHKzc2VJP3617/WxIkTFR8fr/Pnz+v555/XiRMntGTJks59JQAAoFsKOEbmzZunM2fO6Omnn1Ztba1Gjx6tHTt2+C9qra6uVkjI1wdcPvvsMz3yyCOqra1V7969NW7cOO3evVvDhw/vvFcBAAC6LZvP5/OZXsTVuFwuRUZGqr6+ngtYgSBjWZaKi4uVkZHBNSNAkGnr+ze/TQMAAIwiRgAAgFHECAAAMIoYAQAARhEjAADAKGIEAAAYRYwAAACjiBEAAGAUMQIAAIwiRgAAgFHECAAAMIoYAQAARhEjAADAKGIEAAAYRYwAAACjiBEAAGAUMQIAAIwiRgAAgFHECAAAMIoYAQAARhEjAADAKGIEAAAYRYwAAACjiBEAAGAUMQIAAIwiRgAAgFHECAAAMIoYAQAARhEjAADAKGIEAAAYRYwAAACjiBEAAGAUMQIAAIwiRgAAgFHECAAAMIoYAQAARhEjAADAKGIEAAAYRYwAAACjiBEAAGAUMQLAGI/Ho7KyMpWXl6usrEwej8f0kgAY0K4YWbNmjYYMGaLw8HDdfffdeu+99644f8uWLbrzzjsVHh6uhIQEFRcXt2uxAIJHQUGB4uPjlZKSolWrViklJUXx8fEqKCgwvTQAXSzgGNm8ebOysrL0zDPP6IMPPlBiYqLS0tJ0+vTpFufv3r1b8+fP1+LFi7V//35lZmYqMzNTBw8e7PDiAXRPBQUFmjNnjhISElRRUaFXX31VFRUVSkhI0Jw5cwgS4Dpj8/l8vkA2uPvuuzVhwgT96U9/kiR5vV7Fxsbq0Ucf1S9+8YvL5s+bN0+NjY0qKiryj02cOFGjR4/W2rVr2/ScLpdLkZGRqq+vl8PhCGS5AL5lPB6P4uPjlZCQoMLCQnk8HhUXFysjI0OhoaH+/6wcPXpUoaGhppcLoAPa+v7dI5AHvXjxovbt26fs7Gz/WEhIiKZPn67KysoWt6msrFRWVlazsbS0NBUWFrb6PG63W26323/b5XJJkizLkmVZgSwZwDeca7yowgMfquHLzzr0OI0X6nXs4P52bXv61EnV+mo1LC5ZD/7uaXm9Xp0+c0ZbDvxTISEh+jKur2r+VaMZyx9Wv/6xAT9+/MgxuqlXZLvW9k23fydG6cPu6PDjANeztr5nBxQjZ8+elcfjUVRUVLPxqKgoffjhhy1uU1tb2+L82traVp8nNzdXOTk5l42XlJQoIiIikCUD+IbKOpsKXG/Lfktpxx9sQPu3i58Qr5N6XycvjcVKNd+8f2y8PtUH+lQfBPzw+z97XepYa0mS3Pu+q9p/Jyvqxo4/FnC9ampqatO8gGKkq2RnZzc7muJyuRQbG6vU1FRO0wAdMLHxouIODFDDl9/r0ON09MhIWdHflDxrvvpG9fcfGel3yy0KCQnR2bpTeuf1VzX1ez80e2RkDEdGgI66dGbjagKKkb59+yo0NFR1dXXNxuvq6hQdHd3iNtHR0QHNlyS73S673X7ZeFhYmMLCwgJZMoBviLo5TP9v8rjOebDv/2+7NvN4PIp/o1w9jp/Vhj+sb/GakZiQGL3xx5e4ZgTo5tr6nh3Qp2luuOEGjRs3TqWlXx/i9Xq9Ki0tVVJSUovbJCUlNZsvSU6ns9X5AIJbaGio8vLyVFRUpMzMTO3Zs0eff/659uzZo8zMTBUVFWnlypWECHAdCfg0TVZWlhYtWqTx48frrrvu0urVq9XY2KiHHnpIkrRw4UINGDBAubm5kqTly5dr6tSpysvL04wZM7Rp0ybt3btX69at69xXAqDbmD17trZu3arHH39cU6ZM8Y/HxcVp69atmj17tsHVAehqAcfIvHnzdObMGT399NOqra3V6NGjtWPHDv9FqtXV1QoJ+fqAy6RJk5Sfn6+nnnpKTz75pG6//XYVFhZq5MiRnfcqAHQ7s2fP1qxZs/TOO+9o+/btSk9PV3JyMkdEgOtQwN8zYgLfMwIEL8uy/NeMcE0YEFza+v7Nb9MAAACjiBEAAGAUMQIAAIwiRgAAgFHECAAAMIoYAQAARhEjAADAKGIEAAAYRYwAAACjAv46eBMufUlsW3+KGED3YVmWmpqa5HK5+AZWIMhcet++2pe9d4sYuXDhgiQpNjbW8EoAAECgLly4oMjIyFbv7xa/TeP1enXq1Cn16tVLNpvN9HIAdCKXy6XY2FidPHmS354CgozP59OFCxfUv3//Zj+i+391ixgBELz4IUwAXMAKAACMIkYAAIBRxAgAo+x2u5555hnZ7XbTSwFgCNeMAAAAozgyAgAAjCJGAACAUcQIAAAwihgBYNyQIUO0evVq08sAYAgxAgAAjCJGAHR7Fy9eNL0EAB1AjADokHXr1ql///7yer3NxmfNmqWHH35YH330kWbNmqWoqCj17NlTEyZM0FtvvXXFx6yurtasWbPUs2dPORwO/fCHP1RdXZ3//meffVajR4/W+vXrFRcXp/Dw8Gvy2gB0DWIEQIfMnTtX//3vf/XOO+/4x86dO6cdO3ZowYIFamhoUEZGhkpLS7V//37dd999mjlzpqqrq1t8PK/Xq1mzZuncuXMqKyuT0+nUxx9/rHnz5jWbd+zYMb322msqKChQVVXVtXyJAK6xHqYXAKB76927t9LT05Wfn6/vfve7kqStW7eqb9++Sk5OVkhIiBITE/3zn3vuOW3btk1///vftWzZssser7S0VAcOHNDx48cVGxsrSdq4caNGjBih999/XxMmTJD01amZjRs36pZbbumCVwngWuLICIAOW7BggV577TW53W5J0iuvvKIf/ehHCgkJUUNDg5544gkNGzZMN998s3r27KnDhw+3emTk8OHDio2N9YeIJA0fPlw333yzDh8+7B8bPHgwIQIECWIEQIfNnDlTPp9Pb7zxhk6ePKmKigotWLBAkvTEE09o27ZtWrFihSoqKlRVVaWEhIQOX3R60003dcbSAXwLcJoGQIeFh4dr9uzZeuWVV3Ts2DENHTpUY8eOlSS9++67evDBB/WDH/xAktTQ0KBPPvmk1ccaNmyYTp48qZMnT/qPjvz73//W+fPnNXz48Gv+WgB0PWIEQKdYsGCBvve97+nQoUN64IEH/OO33367CgoKNHPmTNlsNv3qV7+67JM33zR9+nQlJCRowYIFWr16tb788kv99Kc/1dSpUzV+/PiueCkAuhinaQB0invvvVd9+vTRkSNHdP/99/vHV61apd69e2vSpEmaOXOm0tLS/EdNWmKz2fT666+rd+/emjJliqZPn65bb71Vmzdv7oqXAcAAm8/n85leBAAAuH5xZAQAABhFjAAAAKOIEQAAYBQxAgAAjCJGAACAUcQIAAAwihgBAABGESMAAMAoYgQAABhFjAAAAKOIEQAAYBQxAgAAjPr/nTKhKcRb+DwAAAAASUVORK5CYII=",
      "text/plain": [
       "<Figure size 640x480 with 1 Axes>"
      ]
     },
     "metadata": {},
     "output_type": "display_data"
    }
   ],
   "source": [
    "dfProdutos.boxplot(column=['valor'])\n",
    "plt.show()"
   ]
  },
  {
   "cell_type": "code",
   "execution_count": 9,
   "metadata": {},
   "outputs": [
    {
     "data": {
      "text/html": [
       "<div>\n",
       "<style scoped>\n",
       "    .dataframe tbody tr th:only-of-type {\n",
       "        vertical-align: middle;\n",
       "    }\n",
       "\n",
       "    .dataframe tbody tr th {\n",
       "        vertical-align: top;\n",
       "    }\n",
       "\n",
       "    .dataframe thead th {\n",
       "        text-align: right;\n",
       "    }\n",
       "</style>\n",
       "<table border=\"1\" class=\"dataframe\">\n",
       "  <thead>\n",
       "    <tr style=\"text-align: right;\">\n",
       "      <th></th>\n",
       "      <th>id</th>\n",
       "      <th>produto</th>\n",
       "      <th>valor</th>\n",
       "    </tr>\n",
       "  </thead>\n",
       "  <tbody>\n",
       "    <tr>\n",
       "      <th>9</th>\n",
       "      <td>10</td>\n",
       "      <td>xxx-231a</td>\n",
       "      <td>3211352.0</td>\n",
       "    </tr>\n",
       "  </tbody>\n",
       "</table>\n",
       "</div>"
      ],
      "text/plain": [
       "   id   produto      valor\n",
       "9  10  xxx-231a  3211352.0"
      ]
     },
     "execution_count": 9,
     "metadata": {},
     "output_type": "execute_result"
    }
   ],
   "source": [
    "dfProdutos[dfProdutos.valor>=3000000]"
   ]
  },
  {
   "cell_type": "code",
   "execution_count": 10,
   "metadata": {},
   "outputs": [
    {
     "data": {
      "image/png": "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",
      "text/plain": [
       "<Figure size 640x480 with 1 Axes>"
      ]
     },
     "metadata": {},
     "output_type": "display_data"
    }
   ],
   "source": [
    "dfProdutos[dfProdutos.valor<3000000].boxplot(column=['valor'])\n",
    "plt.show()"
   ]
  },
  {
   "cell_type": "code",
   "execution_count": 11,
   "metadata": {},
   "outputs": [
    {
     "data": {
      "text/plain": [
       "id            182\n",
       "id_cliente    182\n",
       "id_loja       182\n",
       "id_produto    182\n",
       "dt_venda      182\n",
       "dtype: int64"
      ]
     },
     "execution_count": 11,
     "metadata": {},
     "output_type": "execute_result"
    }
   ],
   "source": [
    "dfVendas[dfVendas.id_produto==10].count()"
   ]
  },
  {
   "cell_type": "code",
   "execution_count": 12,
   "metadata": {},
   "outputs": [
    {
     "data": {
      "text/html": [
       "<div>\n",
       "<style scoped>\n",
       "    .dataframe tbody tr th:only-of-type {\n",
       "        vertical-align: middle;\n",
       "    }\n",
       "\n",
       "    .dataframe tbody tr th {\n",
       "        vertical-align: top;\n",
       "    }\n",
       "\n",
       "    .dataframe thead th {\n",
       "        text-align: right;\n",
       "    }\n",
       "</style>\n",
       "<table border=\"1\" class=\"dataframe\">\n",
       "  <thead>\n",
       "    <tr style=\"text-align: right;\">\n",
       "      <th></th>\n",
       "      <th>id</th>\n",
       "      <th>id_cliente</th>\n",
       "      <th>id_loja</th>\n",
       "      <th>id_produto</th>\n",
       "      <th>dt_venda</th>\n",
       "    </tr>\n",
       "  </thead>\n",
       "  <tbody>\n",
       "    <tr>\n",
       "      <th>count</th>\n",
       "      <td>3000.000000</td>\n",
       "      <td>3000.000000</td>\n",
       "      <td>3000.000000</td>\n",
       "      <td>3000.000000</td>\n",
       "      <td>3000</td>\n",
       "    </tr>\n",
       "    <tr>\n",
       "      <th>mean</th>\n",
       "      <td>1500.500000</td>\n",
       "      <td>500.763667</td>\n",
       "      <td>4.538333</td>\n",
       "      <td>4.435000</td>\n",
       "      <td>2019-05-17 17:48:28.799999744</td>\n",
       "    </tr>\n",
       "    <tr>\n",
       "      <th>min</th>\n",
       "      <td>1.000000</td>\n",
       "      <td>1.000000</td>\n",
       "      <td>1.000000</td>\n",
       "      <td>1.000000</td>\n",
       "      <td>2018-01-04 00:00:00</td>\n",
       "    </tr>\n",
       "    <tr>\n",
       "      <th>25%</th>\n",
       "      <td>750.750000</td>\n",
       "      <td>254.750000</td>\n",
       "      <td>2.000000</td>\n",
       "      <td>3.000000</td>\n",
       "      <td>2018-09-09 00:00:00</td>\n",
       "    </tr>\n",
       "    <tr>\n",
       "      <th>50%</th>\n",
       "      <td>1500.500000</td>\n",
       "      <td>503.500000</td>\n",
       "      <td>4.000000</td>\n",
       "      <td>3.000000</td>\n",
       "      <td>2019-05-20 00:00:00</td>\n",
       "    </tr>\n",
       "    <tr>\n",
       "      <th>75%</th>\n",
       "      <td>2250.250000</td>\n",
       "      <td>742.000000</td>\n",
       "      <td>7.000000</td>\n",
       "      <td>6.000000</td>\n",
       "      <td>2020-01-29 06:00:00</td>\n",
       "    </tr>\n",
       "    <tr>\n",
       "      <th>max</th>\n",
       "      <td>3000.000000</td>\n",
       "      <td>1000.000000</td>\n",
       "      <td>10.000000</td>\n",
       "      <td>10.000000</td>\n",
       "      <td>2020-09-27 00:00:00</td>\n",
       "    </tr>\n",
       "    <tr>\n",
       "      <th>std</th>\n",
       "      <td>866.169729</td>\n",
       "      <td>285.322282</td>\n",
       "      <td>2.922221</td>\n",
       "      <td>2.511018</td>\n",
       "      <td>NaN</td>\n",
       "    </tr>\n",
       "  </tbody>\n",
       "</table>\n",
       "</div>"
      ],
      "text/plain": [
       "                id   id_cliente      id_loja   id_produto  \\\n",
       "count  3000.000000  3000.000000  3000.000000  3000.000000   \n",
       "mean   1500.500000   500.763667     4.538333     4.435000   \n",
       "min       1.000000     1.000000     1.000000     1.000000   \n",
       "25%     750.750000   254.750000     2.000000     3.000000   \n",
       "50%    1500.500000   503.500000     4.000000     3.000000   \n",
       "75%    2250.250000   742.000000     7.000000     6.000000   \n",
       "max    3000.000000  1000.000000    10.000000    10.000000   \n",
       "std     866.169729   285.322282     2.922221     2.511018   \n",
       "\n",
       "                            dt_venda  \n",
       "count                           3000  \n",
       "mean   2019-05-17 17:48:28.799999744  \n",
       "min              2018-01-04 00:00:00  \n",
       "25%              2018-09-09 00:00:00  \n",
       "50%              2019-05-20 00:00:00  \n",
       "75%              2020-01-29 06:00:00  \n",
       "max              2020-09-27 00:00:00  \n",
       "std                              NaN  "
      ]
     },
     "execution_count": 12,
     "metadata": {},
     "output_type": "execute_result"
    }
   ],
   "source": [
    "dfVendas.describe()"
   ]
  },
  {
   "cell_type": "code",
   "execution_count": 13,
   "metadata": {},
   "outputs": [
    {
     "data": {
      "text/plain": [
       "id          0\n",
       "id_venda    0\n",
       "dt_pgto     0\n",
       "dtype: int64"
      ]
     },
     "execution_count": 13,
     "metadata": {},
     "output_type": "execute_result"
    }
   ],
   "source": [
    "dfPag.isnull().sum()\n"
   ]
  },
  {
   "cell_type": "markdown",
   "metadata": {},
   "source": [
    "## DATA CLEANNING"
   ]
  },
  {
   "cell_type": "markdown",
   "metadata": {},
   "source": [
    "### DADOS NULOS"
   ]
  },
  {
   "cell_type": "code",
   "execution_count": 14,
   "metadata": {},
   "outputs": [
    {
     "data": {
      "text/html": [
       "<div>\n",
       "<style scoped>\n",
       "    .dataframe tbody tr th:only-of-type {\n",
       "        vertical-align: middle;\n",
       "    }\n",
       "\n",
       "    .dataframe tbody tr th {\n",
       "        vertical-align: top;\n",
       "    }\n",
       "\n",
       "    .dataframe thead th {\n",
       "        text-align: right;\n",
       "    }\n",
       "</style>\n",
       "<table border=\"1\" class=\"dataframe\">\n",
       "  <thead>\n",
       "    <tr style=\"text-align: right;\">\n",
       "      <th></th>\n",
       "      <th>id</th>\n",
       "      <th>id_cliente</th>\n",
       "      <th>id_loja</th>\n",
       "      <th>id_produto</th>\n",
       "      <th>dt_venda</th>\n",
       "    </tr>\n",
       "  </thead>\n",
       "  <tbody>\n",
       "    <tr>\n",
       "      <th>229</th>\n",
       "      <td>230</td>\n",
       "      <td>264</td>\n",
       "      <td>2</td>\n",
       "      <td>3</td>\n",
       "      <td>2018-03-28</td>\n",
       "    </tr>\n",
       "    <tr>\n",
       "      <th>562</th>\n",
       "      <td>563</td>\n",
       "      <td>264</td>\n",
       "      <td>5</td>\n",
       "      <td>3</td>\n",
       "      <td>2018-07-07</td>\n",
       "    </tr>\n",
       "    <tr>\n",
       "      <th>1438</th>\n",
       "      <td>1439</td>\n",
       "      <td>264</td>\n",
       "      <td>3</td>\n",
       "      <td>3</td>\n",
       "      <td>2019-04-29</td>\n",
       "    </tr>\n",
       "    <tr>\n",
       "      <th>2021</th>\n",
       "      <td>2022</td>\n",
       "      <td>264</td>\n",
       "      <td>6</td>\n",
       "      <td>3</td>\n",
       "      <td>2019-11-08</td>\n",
       "    </tr>\n",
       "    <tr>\n",
       "      <th>2877</th>\n",
       "      <td>2878</td>\n",
       "      <td>264</td>\n",
       "      <td>10</td>\n",
       "      <td>3</td>\n",
       "      <td>2020-08-14</td>\n",
       "    </tr>\n",
       "  </tbody>\n",
       "</table>\n",
       "</div>"
      ],
      "text/plain": [
       "        id  id_cliente  id_loja  id_produto   dt_venda\n",
       "229    230         264        2           3 2018-03-28\n",
       "562    563         264        5           3 2018-07-07\n",
       "1438  1439         264        3           3 2019-04-29\n",
       "2021  2022         264        6           3 2019-11-08\n",
       "2877  2878         264       10           3 2020-08-14"
      ]
     },
     "execution_count": 14,
     "metadata": {},
     "output_type": "execute_result"
    }
   ],
   "source": [
    "dfVendas[dfVendas.id_cliente ==264]"
   ]
  },
  {
   "cell_type": "code",
   "execution_count": 15,
   "metadata": {},
   "outputs": [],
   "source": [
    "dfClientes.loc[dfClientes.nome.isnull(), 'nome'] = 'Sem Nome'\n",
    "dfClientes.loc[dfClientes.nome.isnull(), 'sexo'] = '0'\n",
    "dfClientes.loc[dfClientes.nome.isnull(), 'dt_nasc'] = '1/1/2020'"
   ]
  },
  {
   "cell_type": "code",
   "execution_count": 16,
   "metadata": {},
   "outputs": [
    {
     "data": {
      "text/html": [
       "<div>\n",
       "<style scoped>\n",
       "    .dataframe tbody tr th:only-of-type {\n",
       "        vertical-align: middle;\n",
       "    }\n",
       "\n",
       "    .dataframe tbody tr th {\n",
       "        vertical-align: top;\n",
       "    }\n",
       "\n",
       "    .dataframe thead th {\n",
       "        text-align: right;\n",
       "    }\n",
       "</style>\n",
       "<table border=\"1\" class=\"dataframe\">\n",
       "  <thead>\n",
       "    <tr style=\"text-align: right;\">\n",
       "      <th></th>\n",
       "      <th>id</th>\n",
       "      <th>nome</th>\n",
       "      <th>sexo</th>\n",
       "      <th>dt_nasc</th>\n",
       "    </tr>\n",
       "  </thead>\n",
       "  <tbody>\n",
       "    <tr>\n",
       "      <th>269</th>\n",
       "      <td>270</td>\n",
       "      <td>Sem Nome</td>\n",
       "      <td>M</td>\n",
       "      <td>NaN</td>\n",
       "    </tr>\n",
       "    <tr>\n",
       "      <th>287</th>\n",
       "      <td>288</td>\n",
       "      <td>Victor Ribeiro</td>\n",
       "      <td>NaN</td>\n",
       "      <td>12/17/1974</td>\n",
       "    </tr>\n",
       "  </tbody>\n",
       "</table>\n",
       "</div>"
      ],
      "text/plain": [
       "      id            nome sexo     dt_nasc\n",
       "269  270        Sem Nome    M         NaN\n",
       "287  288  Victor Ribeiro  NaN  12/17/1974"
      ]
     },
     "execution_count": 16,
     "metadata": {},
     "output_type": "execute_result"
    }
   ],
   "source": [
    "dfClientes.loc[[269,287], :]"
   ]
  },
  {
   "cell_type": "code",
   "execution_count": 17,
   "metadata": {},
   "outputs": [
    {
     "data": {
      "text/plain": [
       "id         0\n",
       "nome       0\n",
       "sexo       4\n",
       "dt_nasc    4\n",
       "dtype: int64"
      ]
     },
     "execution_count": 17,
     "metadata": {},
     "output_type": "execute_result"
    }
   ],
   "source": [
    "dfClientes.isnull().sum()"
   ]
  },
  {
   "cell_type": "code",
   "execution_count": 18,
   "metadata": {},
   "outputs": [
    {
     "data": {
      "text/plain": [
       "id          0\n",
       "id_venda    0\n",
       "dt_pgto     0\n",
       "dtype: int64"
      ]
     },
     "execution_count": 18,
     "metadata": {},
     "output_type": "execute_result"
    }
   ],
   "source": [
    "dfPag.isnull().sum()"
   ]
  },
  {
   "cell_type": "markdown",
   "metadata": {},
   "source": [
    "## OUTLIERS"
   ]
  },
  {
   "cell_type": "code",
   "execution_count": 19,
   "metadata": {},
   "outputs": [
    {
     "data": {
      "text/html": [
       "<div>\n",
       "<style scoped>\n",
       "    .dataframe tbody tr th:only-of-type {\n",
       "        vertical-align: middle;\n",
       "    }\n",
       "\n",
       "    .dataframe tbody tr th {\n",
       "        vertical-align: top;\n",
       "    }\n",
       "\n",
       "    .dataframe thead th {\n",
       "        text-align: right;\n",
       "    }\n",
       "</style>\n",
       "<table border=\"1\" class=\"dataframe\">\n",
       "  <thead>\n",
       "    <tr style=\"text-align: right;\">\n",
       "      <th></th>\n",
       "      <th>id</th>\n",
       "      <th>produto</th>\n",
       "      <th>valor</th>\n",
       "    </tr>\n",
       "  </thead>\n",
       "  <tbody>\n",
       "    <tr>\n",
       "      <th>0</th>\n",
       "      <td>1</td>\n",
       "      <td>mouse</td>\n",
       "      <td>20.000</td>\n",
       "    </tr>\n",
       "    <tr>\n",
       "      <th>1</th>\n",
       "      <td>2</td>\n",
       "      <td>teclado</td>\n",
       "      <td>30.000</td>\n",
       "    </tr>\n",
       "    <tr>\n",
       "      <th>2</th>\n",
       "      <td>3</td>\n",
       "      <td>laptop básico</td>\n",
       "      <td>2300.000</td>\n",
       "    </tr>\n",
       "    <tr>\n",
       "      <th>3</th>\n",
       "      <td>4</td>\n",
       "      <td>laptop gamer</td>\n",
       "      <td>5300.000</td>\n",
       "    </tr>\n",
       "    <tr>\n",
       "      <th>4</th>\n",
       "      <td>5</td>\n",
       "      <td>monitor</td>\n",
       "      <td>1500.000</td>\n",
       "    </tr>\n",
       "    <tr>\n",
       "      <th>5</th>\n",
       "      <td>6</td>\n",
       "      <td>impressora</td>\n",
       "      <td>700.000</td>\n",
       "    </tr>\n",
       "    <tr>\n",
       "      <th>6</th>\n",
       "      <td>7</td>\n",
       "      <td>carregador</td>\n",
       "      <td>150.000</td>\n",
       "    </tr>\n",
       "    <tr>\n",
       "      <th>7</th>\n",
       "      <td>8</td>\n",
       "      <td>cadeira</td>\n",
       "      <td>540.000</td>\n",
       "    </tr>\n",
       "    <tr>\n",
       "      <th>8</th>\n",
       "      <td>9</td>\n",
       "      <td>mesa</td>\n",
       "      <td>860.000</td>\n",
       "    </tr>\n",
       "    <tr>\n",
       "      <th>9</th>\n",
       "      <td>10</td>\n",
       "      <td>xxx-231a</td>\n",
       "      <td>3211.352</td>\n",
       "    </tr>\n",
       "  </tbody>\n",
       "</table>\n",
       "</div>"
      ],
      "text/plain": [
       "   id        produto     valor\n",
       "0   1          mouse    20.000\n",
       "1   2        teclado    30.000\n",
       "2   3  laptop básico  2300.000\n",
       "3   4   laptop gamer  5300.000\n",
       "4   5        monitor  1500.000\n",
       "5   6     impressora   700.000\n",
       "6   7     carregador   150.000\n",
       "7   8        cadeira   540.000\n",
       "8   9           mesa   860.000\n",
       "9  10       xxx-231a  3211.352"
      ]
     },
     "execution_count": 19,
     "metadata": {},
     "output_type": "execute_result"
    }
   ],
   "source": [
    "dfProdutos.loc[9,'valor'] = dfProdutos.valor[9]/1000\n",
    "dfProdutos\n"
   ]
  },
  {
   "cell_type": "code",
   "execution_count": 20,
   "metadata": {},
   "outputs": [
    {
     "data": {
      "image/png": "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",
      "text/plain": [
       "<Figure size 640x480 with 1 Axes>"
      ]
     },
     "metadata": {},
     "output_type": "display_data"
    }
   ],
   "source": [
    "dfProdutos.boxplot(column=['valor'])\n",
    "plt.show()"
   ]
  },
  {
   "cell_type": "markdown",
   "metadata": {},
   "source": [
    "### CONSISTÊNCIA"
   ]
  },
  {
   "cell_type": "code",
   "execution_count": 21,
   "metadata": {},
   "outputs": [
    {
     "data": {
      "text/html": [
       "<div>\n",
       "<style scoped>\n",
       "    .dataframe tbody tr th:only-of-type {\n",
       "        vertical-align: middle;\n",
       "    }\n",
       "\n",
       "    .dataframe tbody tr th {\n",
       "        vertical-align: top;\n",
       "    }\n",
       "\n",
       "    .dataframe thead th {\n",
       "        text-align: right;\n",
       "    }\n",
       "</style>\n",
       "<table border=\"1\" class=\"dataframe\">\n",
       "  <thead>\n",
       "    <tr style=\"text-align: right;\">\n",
       "      <th></th>\n",
       "      <th>id</th>\n",
       "      <th>id_cliente</th>\n",
       "      <th>id_loja</th>\n",
       "      <th>id_produto</th>\n",
       "      <th>dt_venda</th>\n",
       "    </tr>\n",
       "  </thead>\n",
       "  <tbody>\n",
       "  </tbody>\n",
       "</table>\n",
       "</div>"
      ],
      "text/plain": [
       "Empty DataFrame\n",
       "Columns: [id, id_cliente, id_loja, id_produto, dt_venda]\n",
       "Index: []"
      ]
     },
     "execution_count": 21,
     "metadata": {},
     "output_type": "execute_result"
    }
   ],
   "source": [
    "dfVendas[~dfVendas.id_cliente.isin(dfClientes.id)]"
   ]
  },
  {
   "cell_type": "code",
   "execution_count": 22,
   "metadata": {},
   "outputs": [
    {
     "data": {
      "text/html": [
       "<div>\n",
       "<style scoped>\n",
       "    .dataframe tbody tr th:only-of-type {\n",
       "        vertical-align: middle;\n",
       "    }\n",
       "\n",
       "    .dataframe tbody tr th {\n",
       "        vertical-align: top;\n",
       "    }\n",
       "\n",
       "    .dataframe thead th {\n",
       "        text-align: right;\n",
       "    }\n",
       "</style>\n",
       "<table border=\"1\" class=\"dataframe\">\n",
       "  <thead>\n",
       "    <tr style=\"text-align: right;\">\n",
       "      <th></th>\n",
       "      <th>id</th>\n",
       "      <th>id_cliente</th>\n",
       "      <th>id_loja</th>\n",
       "      <th>id_produto</th>\n",
       "      <th>dt_venda</th>\n",
       "    </tr>\n",
       "  </thead>\n",
       "  <tbody>\n",
       "  </tbody>\n",
       "</table>\n",
       "</div>"
      ],
      "text/plain": [
       "Empty DataFrame\n",
       "Columns: [id, id_cliente, id_loja, id_produto, dt_venda]\n",
       "Index: []"
      ]
     },
     "execution_count": 22,
     "metadata": {},
     "output_type": "execute_result"
    }
   ],
   "source": [
    "dfVendas[~dfVendas.id_loja.isin(dfLojas.id)]"
   ]
  },
  {
   "cell_type": "code",
   "execution_count": 23,
   "metadata": {},
   "outputs": [
    {
     "data": {
      "text/html": [
       "<div>\n",
       "<style scoped>\n",
       "    .dataframe tbody tr th:only-of-type {\n",
       "        vertical-align: middle;\n",
       "    }\n",
       "\n",
       "    .dataframe tbody tr th {\n",
       "        vertical-align: top;\n",
       "    }\n",
       "\n",
       "    .dataframe thead th {\n",
       "        text-align: right;\n",
       "    }\n",
       "</style>\n",
       "<table border=\"1\" class=\"dataframe\">\n",
       "  <thead>\n",
       "    <tr style=\"text-align: right;\">\n",
       "      <th></th>\n",
       "      <th>id</th>\n",
       "      <th>id_cliente</th>\n",
       "      <th>id_loja</th>\n",
       "      <th>id_produto</th>\n",
       "      <th>dt_venda</th>\n",
       "    </tr>\n",
       "  </thead>\n",
       "  <tbody>\n",
       "  </tbody>\n",
       "</table>\n",
       "</div>"
      ],
      "text/plain": [
       "Empty DataFrame\n",
       "Columns: [id, id_cliente, id_loja, id_produto, dt_venda]\n",
       "Index: []"
      ]
     },
     "execution_count": 23,
     "metadata": {},
     "output_type": "execute_result"
    }
   ],
   "source": [
    "dfVendas[~dfVendas.id_produto.isin(dfProdutos.id)]"
   ]
  },
  {
   "cell_type": "code",
   "execution_count": 24,
   "metadata": {},
   "outputs": [
    {
     "data": {
      "text/html": [
       "<div>\n",
       "<style scoped>\n",
       "    .dataframe tbody tr th:only-of-type {\n",
       "        vertical-align: middle;\n",
       "    }\n",
       "\n",
       "    .dataframe tbody tr th {\n",
       "        vertical-align: top;\n",
       "    }\n",
       "\n",
       "    .dataframe thead th {\n",
       "        text-align: right;\n",
       "    }\n",
       "</style>\n",
       "<table border=\"1\" class=\"dataframe\">\n",
       "  <thead>\n",
       "    <tr style=\"text-align: right;\">\n",
       "      <th></th>\n",
       "      <th>id</th>\n",
       "      <th>id_venda</th>\n",
       "      <th>dt_pgto</th>\n",
       "    </tr>\n",
       "  </thead>\n",
       "  <tbody>\n",
       "  </tbody>\n",
       "</table>\n",
       "</div>"
      ],
      "text/plain": [
       "Empty DataFrame\n",
       "Columns: [id, id_venda, dt_pgto]\n",
       "Index: []"
      ]
     },
     "execution_count": 24,
     "metadata": {},
     "output_type": "execute_result"
    }
   ],
   "source": [
    "dfPag[~dfPag.id_venda.isin(dfVendas.id)]"
   ]
  },
  {
   "cell_type": "code",
   "execution_count": 25,
   "metadata": {},
   "outputs": [
    {
     "data": {
      "text/plain": [
       "id            928\n",
       "id_cliente    928\n",
       "id_loja       928\n",
       "id_produto    928\n",
       "dt_venda      928\n",
       "dtype: int64"
      ]
     },
     "execution_count": 25,
     "metadata": {},
     "output_type": "execute_result"
    }
   ],
   "source": [
    "dfVendas[~dfVendas.id.isin(dfPag.id_venda)].count()\n"
   ]
  },
  {
   "cell_type": "markdown",
   "metadata": {},
   "source": [
    "### DADOS DUPLICADOS"
   ]
  },
  {
   "cell_type": "code",
   "execution_count": 28,
   "metadata": {},
   "outputs": [
    {
     "data": {
      "text/html": [
       "<div>\n",
       "<style scoped>\n",
       "    .dataframe tbody tr th:only-of-type {\n",
       "        vertical-align: middle;\n",
       "    }\n",
       "\n",
       "    .dataframe tbody tr th {\n",
       "        vertical-align: top;\n",
       "    }\n",
       "\n",
       "    .dataframe thead th {\n",
       "        text-align: right;\n",
       "    }\n",
       "</style>\n",
       "<table border=\"1\" class=\"dataframe\">\n",
       "  <thead>\n",
       "    <tr style=\"text-align: right;\">\n",
       "      <th></th>\n",
       "      <th>id</th>\n",
       "      <th>nome</th>\n",
       "      <th>sexo</th>\n",
       "      <th>dt_nasc</th>\n",
       "    </tr>\n",
       "  </thead>\n",
       "  <tbody>\n",
       "    <tr>\n",
       "      <th>79</th>\n",
       "      <td>80</td>\n",
       "      <td>Anna Melo</td>\n",
       "      <td>F</td>\n",
       "      <td>8/10/1999</td>\n",
       "    </tr>\n",
       "    <tr>\n",
       "      <th>96</th>\n",
       "      <td>97</td>\n",
       "      <td>Beatrice Goncalves</td>\n",
       "      <td>F</td>\n",
       "      <td>11/22/1964</td>\n",
       "    </tr>\n",
       "    <tr>\n",
       "      <th>138</th>\n",
       "      <td>139</td>\n",
       "      <td>Kauê Araujo</td>\n",
       "      <td>M</td>\n",
       "      <td>5/31/1974</td>\n",
       "    </tr>\n",
       "    <tr>\n",
       "      <th>139</th>\n",
       "      <td>140</td>\n",
       "      <td>Leonor Sousa</td>\n",
       "      <td>F</td>\n",
       "      <td>8/2/1981</td>\n",
       "    </tr>\n",
       "    <tr>\n",
       "      <th>154</th>\n",
       "      <td>155</td>\n",
       "      <td>Luis Rodrigues</td>\n",
       "      <td>M</td>\n",
       "      <td>7/3/1973</td>\n",
       "    </tr>\n",
       "    <tr>\n",
       "      <th>...</th>\n",
       "      <td>...</td>\n",
       "      <td>...</td>\n",
       "      <td>...</td>\n",
       "      <td>...</td>\n",
       "    </tr>\n",
       "    <tr>\n",
       "      <th>986</th>\n",
       "      <td>987</td>\n",
       "      <td>Beatriz Cardoso</td>\n",
       "      <td>F</td>\n",
       "      <td>7/17/1984</td>\n",
       "    </tr>\n",
       "    <tr>\n",
       "      <th>990</th>\n",
       "      <td>991</td>\n",
       "      <td>Diogo Melo</td>\n",
       "      <td>M</td>\n",
       "      <td>7/24/2001</td>\n",
       "    </tr>\n",
       "    <tr>\n",
       "      <th>993</th>\n",
       "      <td>994</td>\n",
       "      <td>Eduardo Costa</td>\n",
       "      <td>M</td>\n",
       "      <td>12/18/1963</td>\n",
       "    </tr>\n",
       "    <tr>\n",
       "      <th>996</th>\n",
       "      <td>997</td>\n",
       "      <td>Laura Oliveira</td>\n",
       "      <td>F</td>\n",
       "      <td>6/15/1979</td>\n",
       "    </tr>\n",
       "    <tr>\n",
       "      <th>999</th>\n",
       "      <td>1000</td>\n",
       "      <td>Gustavo Barbosa</td>\n",
       "      <td>M</td>\n",
       "      <td>12/30/1975</td>\n",
       "    </tr>\n",
       "  </tbody>\n",
       "</table>\n",
       "<p>109 rows × 4 columns</p>\n",
       "</div>"
      ],
      "text/plain": [
       "       id                nome sexo     dt_nasc\n",
       "79     80           Anna Melo    F   8/10/1999\n",
       "96     97  Beatrice Goncalves    F  11/22/1964\n",
       "138   139         Kauê Araujo    M   5/31/1974\n",
       "139   140        Leonor Sousa    F    8/2/1981\n",
       "154   155      Luis Rodrigues    M    7/3/1973\n",
       "..    ...                 ...  ...         ...\n",
       "986   987     Beatriz Cardoso    F   7/17/1984\n",
       "990   991          Diogo Melo    M   7/24/2001\n",
       "993   994       Eduardo Costa    M  12/18/1963\n",
       "996   997      Laura Oliveira    F   6/15/1979\n",
       "999  1000     Gustavo Barbosa    M  12/30/1975\n",
       "\n",
       "[109 rows x 4 columns]"
      ]
     },
     "execution_count": 28,
     "metadata": {},
     "output_type": "execute_result"
    }
   ],
   "source": [
    "dfClientes[dfClientes.nome.duplicated()]"
   ]
  },
  {
   "cell_type": "code",
   "execution_count": 29,
   "metadata": {},
   "outputs": [
    {
     "data": {
      "text/html": [
       "<div>\n",
       "<style scoped>\n",
       "    .dataframe tbody tr th:only-of-type {\n",
       "        vertical-align: middle;\n",
       "    }\n",
       "\n",
       "    .dataframe tbody tr th {\n",
       "        vertical-align: top;\n",
       "    }\n",
       "\n",
       "    .dataframe thead th {\n",
       "        text-align: right;\n",
       "    }\n",
       "</style>\n",
       "<table border=\"1\" class=\"dataframe\">\n",
       "  <thead>\n",
       "    <tr style=\"text-align: right;\">\n",
       "      <th></th>\n",
       "      <th>id</th>\n",
       "      <th>nome</th>\n",
       "      <th>sexo</th>\n",
       "      <th>dt_nasc</th>\n",
       "    </tr>\n",
       "  </thead>\n",
       "  <tbody>\n",
       "    <tr>\n",
       "      <th>66</th>\n",
       "      <td>67</td>\n",
       "      <td>Anna Melo</td>\n",
       "      <td>F</td>\n",
       "      <td>11/6/1995</td>\n",
       "    </tr>\n",
       "    <tr>\n",
       "      <th>79</th>\n",
       "      <td>80</td>\n",
       "      <td>Anna Melo</td>\n",
       "      <td>F</td>\n",
       "      <td>8/10/1999</td>\n",
       "    </tr>\n",
       "  </tbody>\n",
       "</table>\n",
       "</div>"
      ],
      "text/plain": [
       "    id       nome sexo    dt_nasc\n",
       "66  67  Anna Melo    F  11/6/1995\n",
       "79  80  Anna Melo    F  8/10/1999"
      ]
     },
     "execution_count": 29,
     "metadata": {},
     "output_type": "execute_result"
    }
   ],
   "source": [
    "dfClientes[dfClientes.nome=='Anna Melo']"
   ]
  },
  {
   "cell_type": "code",
   "execution_count": 31,
   "metadata": {},
   "outputs": [
    {
     "data": {
      "text/plain": [
       "0"
      ]
     },
     "execution_count": 31,
     "metadata": {},
     "output_type": "execute_result"
    }
   ],
   "source": [
    "dfClientes.duplicated().sum()"
   ]
  },
  {
   "cell_type": "markdown",
   "metadata": {},
   "source": [
    "Retirando uma coluna ou linha, utilize o seguinte comando"
   ]
  },
  {
   "cell_type": "markdown",
   "metadata": {},
   "source": [
    "Na hora de representar no axis(usando o 0 representa linha e 1 representa a coluna)"
   ]
  },
  {
   "cell_type": "code",
   "execution_count": 33,
   "metadata": {},
   "outputs": [
    {
     "data": {
      "text/plain": [
       "0"
      ]
     },
     "execution_count": 33,
     "metadata": {},
     "output_type": "execute_result"
    }
   ],
   "source": [
    "dfClientes.drop('id', axis=1).duplicated().sum()"
   ]
  },
  {
   "cell_type": "code",
   "execution_count": 34,
   "metadata": {},
   "outputs": [
    {
     "data": {
      "text/plain": [
       "0"
      ]
     },
     "execution_count": 34,
     "metadata": {},
     "output_type": "execute_result"
    }
   ],
   "source": [
    "dfProdutos.produto.duplicated().sum()"
   ]
  },
  {
   "cell_type": "code",
   "execution_count": 42,
   "metadata": {},
   "outputs": [
    {
     "data": {
      "text/plain": [
       "0"
      ]
     },
     "execution_count": 42,
     "metadata": {},
     "output_type": "execute_result"
    }
   ],
   "source": [
    "dfLojas.cidade.duplicated().sum()"
   ]
  },
  {
   "cell_type": "code",
   "execution_count": 43,
   "metadata": {},
   "outputs": [
    {
     "data": {
      "text/html": [
       "<div>\n",
       "<style scoped>\n",
       "    .dataframe tbody tr th:only-of-type {\n",
       "        vertical-align: middle;\n",
       "    }\n",
       "\n",
       "    .dataframe tbody tr th {\n",
       "        vertical-align: top;\n",
       "    }\n",
       "\n",
       "    .dataframe thead th {\n",
       "        text-align: right;\n",
       "    }\n",
       "</style>\n",
       "<table border=\"1\" class=\"dataframe\">\n",
       "  <thead>\n",
       "    <tr style=\"text-align: right;\">\n",
       "      <th></th>\n",
       "      <th>id</th>\n",
       "      <th>id_cliente</th>\n",
       "      <th>id_loja</th>\n",
       "      <th>id_produto</th>\n",
       "      <th>dt_venda</th>\n",
       "    </tr>\n",
       "  </thead>\n",
       "  <tbody>\n",
       "    <tr>\n",
       "      <th>0</th>\n",
       "      <td>1</td>\n",
       "      <td>393</td>\n",
       "      <td>9</td>\n",
       "      <td>3</td>\n",
       "      <td>2018-01-04</td>\n",
       "    </tr>\n",
       "    <tr>\n",
       "      <th>1</th>\n",
       "      <td>2</td>\n",
       "      <td>417</td>\n",
       "      <td>9</td>\n",
       "      <td>3</td>\n",
       "      <td>2018-01-04</td>\n",
       "    </tr>\n",
       "    <tr>\n",
       "      <th>2</th>\n",
       "      <td>3</td>\n",
       "      <td>374</td>\n",
       "      <td>7</td>\n",
       "      <td>8</td>\n",
       "      <td>2018-01-04</td>\n",
       "    </tr>\n",
       "    <tr>\n",
       "      <th>3</th>\n",
       "      <td>4</td>\n",
       "      <td>59</td>\n",
       "      <td>4</td>\n",
       "      <td>3</td>\n",
       "      <td>2018-01-05</td>\n",
       "    </tr>\n",
       "    <tr>\n",
       "      <th>4</th>\n",
       "      <td>5</td>\n",
       "      <td>18</td>\n",
       "      <td>9</td>\n",
       "      <td>1</td>\n",
       "      <td>2018-01-05</td>\n",
       "    </tr>\n",
       "    <tr>\n",
       "      <th>...</th>\n",
       "      <td>...</td>\n",
       "      <td>...</td>\n",
       "      <td>...</td>\n",
       "      <td>...</td>\n",
       "      <td>...</td>\n",
       "    </tr>\n",
       "    <tr>\n",
       "      <th>2995</th>\n",
       "      <td>2996</td>\n",
       "      <td>671</td>\n",
       "      <td>3</td>\n",
       "      <td>7</td>\n",
       "      <td>2020-09-27</td>\n",
       "    </tr>\n",
       "    <tr>\n",
       "      <th>2996</th>\n",
       "      <td>2997</td>\n",
       "      <td>586</td>\n",
       "      <td>8</td>\n",
       "      <td>3</td>\n",
       "      <td>2020-09-27</td>\n",
       "    </tr>\n",
       "    <tr>\n",
       "      <th>2997</th>\n",
       "      <td>2998</td>\n",
       "      <td>731</td>\n",
       "      <td>2</td>\n",
       "      <td>4</td>\n",
       "      <td>2020-09-27</td>\n",
       "    </tr>\n",
       "    <tr>\n",
       "      <th>2998</th>\n",
       "      <td>2999</td>\n",
       "      <td>163</td>\n",
       "      <td>2</td>\n",
       "      <td>1</td>\n",
       "      <td>2020-09-27</td>\n",
       "    </tr>\n",
       "    <tr>\n",
       "      <th>2999</th>\n",
       "      <td>3000</td>\n",
       "      <td>770</td>\n",
       "      <td>2</td>\n",
       "      <td>2</td>\n",
       "      <td>2020-09-27</td>\n",
       "    </tr>\n",
       "  </tbody>\n",
       "</table>\n",
       "<p>3000 rows × 5 columns</p>\n",
       "</div>"
      ],
      "text/plain": [
       "        id  id_cliente  id_loja  id_produto   dt_venda\n",
       "0        1         393        9           3 2018-01-04\n",
       "1        2         417        9           3 2018-01-04\n",
       "2        3         374        7           8 2018-01-04\n",
       "3        4          59        4           3 2018-01-05\n",
       "4        5          18        9           1 2018-01-05\n",
       "...    ...         ...      ...         ...        ...\n",
       "2995  2996         671        3           7 2020-09-27\n",
       "2996  2997         586        8           3 2020-09-27\n",
       "2997  2998         731        2           4 2020-09-27\n",
       "2998  2999         163        2           1 2020-09-27\n",
       "2999  3000         770        2           2 2020-09-27\n",
       "\n",
       "[3000 rows x 5 columns]"
      ]
     },
     "execution_count": 43,
     "metadata": {},
     "output_type": "execute_result"
    }
   ],
   "source": [
    "dfVendas"
   ]
  },
  {
   "cell_type": "markdown",
   "metadata": {},
   "source": [
    "Retirando a coluna do axis 1 e buscando por dados duplicados"
   ]
  },
  {
   "cell_type": "code",
   "execution_count": 46,
   "metadata": {},
   "outputs": [
    {
     "data": {
      "text/html": [
       "<div>\n",
       "<style scoped>\n",
       "    .dataframe tbody tr th:only-of-type {\n",
       "        vertical-align: middle;\n",
       "    }\n",
       "\n",
       "    .dataframe tbody tr th {\n",
       "        vertical-align: top;\n",
       "    }\n",
       "\n",
       "    .dataframe thead th {\n",
       "        text-align: right;\n",
       "    }\n",
       "</style>\n",
       "<table border=\"1\" class=\"dataframe\">\n",
       "  <thead>\n",
       "    <tr style=\"text-align: right;\">\n",
       "      <th></th>\n",
       "      <th>id</th>\n",
       "      <th>id_cliente</th>\n",
       "      <th>id_loja</th>\n",
       "      <th>id_produto</th>\n",
       "      <th>dt_venda</th>\n",
       "    </tr>\n",
       "  </thead>\n",
       "  <tbody>\n",
       "    <tr>\n",
       "      <th>496</th>\n",
       "      <td>497</td>\n",
       "      <td>559</td>\n",
       "      <td>2</td>\n",
       "      <td>5</td>\n",
       "      <td>2018-06-22</td>\n",
       "    </tr>\n",
       "  </tbody>\n",
       "</table>\n",
       "</div>"
      ],
      "text/plain": [
       "      id  id_cliente  id_loja  id_produto   dt_venda\n",
       "496  497         559        2           5 2018-06-22"
      ]
     },
     "execution_count": 46,
     "metadata": {},
     "output_type": "execute_result"
    }
   ],
   "source": [
    "dfVendas[dfVendas.drop('id', axis=1).duplicated()]"
   ]
  },
  {
   "cell_type": "code",
   "execution_count": 47,
   "metadata": {},
   "outputs": [
    {
     "data": {
      "text/html": [
       "<div>\n",
       "<style scoped>\n",
       "    .dataframe tbody tr th:only-of-type {\n",
       "        vertical-align: middle;\n",
       "    }\n",
       "\n",
       "    .dataframe tbody tr th {\n",
       "        vertical-align: top;\n",
       "    }\n",
       "\n",
       "    .dataframe thead th {\n",
       "        text-align: right;\n",
       "    }\n",
       "</style>\n",
       "<table border=\"1\" class=\"dataframe\">\n",
       "  <thead>\n",
       "    <tr style=\"text-align: right;\">\n",
       "      <th></th>\n",
       "      <th>id</th>\n",
       "      <th>id_cliente</th>\n",
       "      <th>id_loja</th>\n",
       "      <th>id_produto</th>\n",
       "      <th>dt_venda</th>\n",
       "    </tr>\n",
       "  </thead>\n",
       "  <tbody>\n",
       "    <tr>\n",
       "      <th>495</th>\n",
       "      <td>496</td>\n",
       "      <td>559</td>\n",
       "      <td>2</td>\n",
       "      <td>5</td>\n",
       "      <td>2018-06-22</td>\n",
       "    </tr>\n",
       "    <tr>\n",
       "      <th>496</th>\n",
       "      <td>497</td>\n",
       "      <td>559</td>\n",
       "      <td>2</td>\n",
       "      <td>5</td>\n",
       "      <td>2018-06-22</td>\n",
       "    </tr>\n",
       "  </tbody>\n",
       "</table>\n",
       "</div>"
      ],
      "text/plain": [
       "      id  id_cliente  id_loja  id_produto   dt_venda\n",
       "495  496         559        2           5 2018-06-22\n",
       "496  497         559        2           5 2018-06-22"
      ]
     },
     "execution_count": 47,
     "metadata": {},
     "output_type": "execute_result"
    }
   ],
   "source": [
    "dfVendas[(dfVendas.id_cliente==559) & (dfVendas.id_loja==2)& (dfVendas.id_produto==5)]"
   ]
  },
  {
   "cell_type": "code",
   "execution_count": 49,
   "metadata": {},
   "outputs": [
    {
     "data": {
      "text/plain": [
       "0"
      ]
     },
     "execution_count": 49,
     "metadata": {},
     "output_type": "execute_result"
    }
   ],
   "source": [
    "dfPag.drop('id', axis=1).duplicated().sum()"
   ]
  },
  {
   "cell_type": "code",
   "execution_count": null,
   "metadata": {},
   "outputs": [],
   "source": []
  }
 ],
 "metadata": {
  "kernelspec": {
   "display_name": "Python 3",
   "language": "python",
   "name": "python3"
  },
  "language_info": {
   "codemirror_mode": {
    "name": "ipython",
    "version": 3
   },
   "file_extension": ".py",
   "mimetype": "text/x-python",
   "name": "python",
   "nbconvert_exporter": "python",
   "pygments_lexer": "ipython3",
   "version": "3.11.2"
  }
 },
 "nbformat": 4,
 "nbformat_minor": 2
}
cells": [
  {
   "cell_type": "code",
   "execution_count": 2,
   "metadata": {},
   "outputs": [],
   "source": [
    "import pandas as pd\n",
    "import matplotlib.pyplot as plt\n"
   ]
  },
  {
   "cell_type": "code",
   "execution_count": 3,
   "metadata": {},
   "outputs": [],
   "source": [
    "dfClientes = pd.read_excel('caso_estudo.xlsx', sheet_name='clientes')\n",
    "dfLojas = pd.read_excel('caso_estudo.xlsx', sheet_name='lojas')\n",
    "dfProdutos = pd.read_excel('caso_estudo.xlsx', sheet_name='produtos')\n",
    "dfVendas = pd.read_excel('caso_estudo.xlsx', sheet_name='vendas')\n",
    "dfPag = pd.read_excel('caso_estudo.xlsx', sheet_name='pagamentos')"
   ]
  },
  {
   "cell_type": "markdown",
   "metadata": {},
   "source": [
    "# Analise Preliminar \n"
   ]
  },
  {
   "cell_type": "code",
   "execution_count": 4,
   "metadata": {},
   "outputs": [
    {
     "data": {
      "text/html": [
       "<div>\n",
       "<style scoped>\n",
       "    .dataframe tbody tr th:only-of-type {\n",
       "        vertical-align: middle;\n",
       "    }\n",
       "\n",
       "    .dataframe tbody tr th {\n",
       "        vertical-align: top;\n",
       "    }\n",
       "\n",
       "    .dataframe thead th {\n",
       "        text-align: right;\n",
       "    }\n",
       "</style>\n",
       "<table border=\"1\" class=\"dataframe\">\n",
       "  <thead>\n",
       "    <tr style=\"text-align: right;\">\n",
       "      <th></th>\n",
       "      <th>id</th>\n",
       "      <th>nome</th>\n",
       "      <th>sexo</th>\n",
       "      <th>dt_nasc</th>\n",
       "    </tr>\n",
       "  </thead>\n",
       "  <tbody>\n",
       "    <tr>\n",
       "      <th>738</th>\n",
       "      <td>739</td>\n",
       "      <td>Ana Silva</td>\n",
       "      <td>F</td>\n",
       "      <td>3/24/1979</td>\n",
       "    </tr>\n",
       "    <tr>\n",
       "      <th>107</th>\n",
       "      <td>108</td>\n",
       "      <td>Emily Ribeiro</td>\n",
       "      <td>F</td>\n",
       "      <td>7/5/1994</td>\n",
       "    </tr>\n",
       "    <tr>\n",
       "      <th>373</th>\n",
       "      <td>374</td>\n",
       "      <td>André Alves</td>\n",
       "      <td>M</td>\n",
       "      <td>8/3/1962</td>\n",
       "    </tr>\n",
       "    <tr>\n",
       "      <th>823</th>\n",
       "      <td>824</td>\n",
       "      <td>Rafaela Sousa</td>\n",
       "      <td>F</td>\n",
       "      <td>5/21/1936</td>\n",
       "    </tr>\n",
       "    <tr>\n",
       "      <th>222</th>\n",
       "      <td>223</td>\n",
       "      <td>Martim Carvalho</td>\n",
       "      <td>M</td>\n",
       "      <td>7/21/1965</td>\n",
       "    </tr>\n",
       "  </tbody>\n",
       "</table>\n",
       "</div>"
      ],
      "text/plain": [
       "      id             nome sexo    dt_nasc\n",
       "738  739        Ana Silva    F  3/24/1979\n",
       "107  108    Emily Ribeiro    F   7/5/1994\n",
       "373  374      André Alves    M   8/3/1962\n",
       "823  824    Rafaela Sousa    F  5/21/1936\n",
       "222  223  Martim Carvalho    M  7/21/1965"
      ]
     },
     "execution_count": 4,
     "metadata": {},
     "output_type": "execute_result"
    }
   ],
   "source": [
    "dfClientes.sample(5)"
   ]
  },
  {
   "cell_type": "code",
   "execution_count": 5,
   "metadata": {},
   "outputs": [
    {
     "data": {
      "text/plain": [
       "id         0\n",
       "nome       4\n",
       "sexo       4\n",
       "dt_nasc    4\n",
       "dtype: int64"
      ]
     },
     "execution_count": 5,
     "metadata": {},
     "output_type": "execute_result"
    }
   ],
   "source": [
    "dfClientes.isnull().sum()"
   ]
  },
  {
   "cell_type": "code",
   "execution_count": 6,
   "metadata": {},
   "outputs": [
    {
     "data": {
      "text/html": [
       "<div>\n",
       "<style scoped>\n",
       "    .dataframe tbody tr th:only-of-type {\n",
       "        vertical-align: middle;\n",
       "    }\n",
       "\n",
       "    .dataframe tbody tr th {\n",
       "        vertical-align: top;\n",
       "    }\n",
       "\n",
       "    .dataframe thead th {\n",
       "        text-align: right;\n",
       "    }\n",
       "</style>\n",
       "<table border=\"1\" class=\"dataframe\">\n",
       "  <thead>\n",
       "    <tr style=\"text-align: right;\">\n",
       "      <th></th>\n",
       "      <th>id</th>\n",
       "      <th>nome</th>\n",
       "      <th>sexo</th>\n",
       "      <th>dt_nasc</th>\n",
       "    </tr>\n",
       "  </thead>\n",
       "  <tbody>\n",
       "    <tr>\n",
       "      <th>263</th>\n",
       "      <td>264</td>\n",
       "      <td>NaN</td>\n",
       "      <td>F</td>\n",
       "      <td>7/29/1997</td>\n",
       "    </tr>\n",
       "    <tr>\n",
       "      <th>264</th>\n",
       "      <td>265</td>\n",
       "      <td>NaN</td>\n",
       "      <td>M</td>\n",
       "      <td>2/7/1979</td>\n",
       "    </tr>\n",
       "    <tr>\n",
       "      <th>268</th>\n",
       "      <td>269</td>\n",
       "      <td>NaN</td>\n",
       "      <td>F</td>\n",
       "      <td>NaN</td>\n",
       "    </tr>\n",
       "    <tr>\n",
       "      <th>269</th>\n",
       "      <td>270</td>\n",
       "      <td>NaN</td>\n",
       "      <td>M</td>\n",
       "      <td>NaN</td>\n",
       "    </tr>\n",
       "    <tr>\n",
       "      <th>276</th>\n",
       "      <td>277</td>\n",
       "      <td>Brenda Santos</td>\n",
       "      <td>F</td>\n",
       "      <td>NaN</td>\n",
       "    </tr>\n",
       "    <tr>\n",
       "      <th>282</th>\n",
       "      <td>283</td>\n",
       "      <td>Amanda Barros</td>\n",
       "      <td>F</td>\n",
       "      <td>NaN</td>\n",
       "    </tr>\n",
       "    <tr>\n",
       "      <th>287</th>\n",
       "      <td>288</td>\n",
       "      <td>Victor Ribeiro</td>\n",
       "      <td>NaN</td>\n",
       "      <td>12/17/1974</td>\n",
       "    </tr>\n",
       "    <tr>\n",
       "      <th>290</th>\n",
       "      <td>291</td>\n",
       "      <td>Clara Pinto</td>\n",
       "      <td>NaN</td>\n",
       "      <td>12/25/1980</td>\n",
       "    </tr>\n",
       "    <tr>\n",
       "      <th>294</th>\n",
       "      <td>295</td>\n",
       "      <td>Tiago Lima</td>\n",
       "      <td>NaN</td>\n",
       "      <td>7/26/1973</td>\n",
       "    </tr>\n",
       "    <tr>\n",
       "      <th>301</th>\n",
       "      <td>302</td>\n",
       "      <td>Guilherme Cardoso</td>\n",
       "      <td>NaN</td>\n",
       "      <td>3/9/1998</td>\n",
       "    </tr>\n",
       "  </tbody>\n",
       "</table>\n",
       "</div>"
      ],
      "text/plain": [
       "      id               nome sexo     dt_nasc\n",
       "263  264                NaN    F   7/29/1997\n",
       "264  265                NaN    M    2/7/1979\n",
       "268  269                NaN    F         NaN\n",
       "269  270                NaN    M         NaN\n",
       "276  277      Brenda Santos    F         NaN\n",
       "282  283      Amanda Barros    F         NaN\n",
       "287  288     Victor Ribeiro  NaN  12/17/1974\n",
       "290  291        Clara Pinto  NaN  12/25/1980\n",
       "294  295         Tiago Lima  NaN   7/26/1973\n",
       "301  302  Guilherme Cardoso  NaN    3/9/1998"
      ]
     },
     "execution_count": 6,
     "metadata": {},
     "output_type": "execute_result"
    }
   ],
   "source": [
    "dfClientes[dfClientes.isnull().T.any()]"
   ]
  },
  {
   "cell_type": "code",
   "execution_count": 7,
   "metadata": {},
   "outputs": [
    {
     "data": {
      "text/plain": [
       "array(['F', 'M', nan], dtype=object)"
      ]
     },
     "execution_count": 7,
     "metadata": {},
     "output_type": "execute_result"
    }
   ],
   "source": [
    "dfClientes.sexo.unique()"
   ]
  },
  {
   "cell_type": "code",
   "execution_count": 8,
   "metadata": {},
   "outputs": [
    {
     "data": {
      "text/html": [
       "<div>\n",
       "<style scoped>\n",
       "    .dataframe tbody tr th:only-of-type {\n",
       "        vertical-align: middle;\n",
       "    }\n",
       "\n",
       "    .dataframe tbody tr th {\n",
       "        vertical-align: top;\n",
       "    }\n",
       "\n",
       "    .dataframe thead th {\n",
       "        text-align: right;\n",
       "    }\n",
       "</style>\n",
       "<table border=\"1\" class=\"dataframe\">\n",
       "  <thead>\n",
       "    <tr style=\"text-align: right;\">\n",
       "      <th></th>\n",
       "      <th>id</th>\n",
       "      <th>produto</th>\n",
       "      <th>valor</th>\n",
       "    </tr>\n",
       "  </thead>\n",
       "  <tbody>\n",
       "    <tr>\n",
       "      <th>0</th>\n",
       "      <td>1</td>\n",
       "      <td>mouse</td>\n",
       "      <td>20.0</td>\n",
       "    </tr>\n",
       "    <tr>\n",
       "      <th>1</th>\n",
       "      <td>2</td>\n",
       "      <td>teclado</td>\n",
       "      <td>30.0</td>\n",
       "    </tr>\n",
       "    <tr>\n",
       "      <th>2</th>\n",
       "      <td>3</td>\n",
       "      <td>laptop básico</td>\n",
       "      <td>2300.0</td>\n",
       "    </tr>\n",
       "    <tr>\n",
       "      <th>3</th>\n",
       "      <td>4</td>\n",
       "      <td>laptop gamer</td>\n",
       "      <td>5300.0</td>\n",
       "    </tr>\n",
       "    <tr>\n",
       "      <th>4</th>\n",
       "      <td>5</td>\n",
       "      <td>monitor</td>\n",
       "      <td>1500.0</td>\n",
       "    </tr>\n",
       "    <tr>\n",
       "      <th>5</th>\n",
       "      <td>6</td>\n",
       "      <td>impressora</td>\n",
       "      <td>700.0</td>\n",
       "    </tr>\n",
       "    <tr>\n",
       "      <th>6</th>\n",
       "      <td>7</td>\n",
       "      <td>carregador</td>\n",
       "      <td>150.0</td>\n",
       "    </tr>\n",
       "    <tr>\n",
       "      <th>7</th>\n",
       "      <td>8</td>\n",
       "      <td>cadeira</td>\n",
       "      <td>540.0</td>\n",
       "    </tr>\n",
       "    <tr>\n",
       "      <th>8</th>\n",
       "      <td>9</td>\n",
       "      <td>mesa</td>\n",
       "      <td>860.0</td>\n",
       "    </tr>\n",
       "    <tr>\n",
       "      <th>9</th>\n",
       "      <td>10</td>\n",
       "      <td>xxx-231a</td>\n",
       "      <td>3211352.0</td>\n",
       "    </tr>\n",
       "  </tbody>\n",
       "</table>\n",
       "</div>"
      ],
      "text/plain": [
       "   id        produto      valor\n",
       "0   1          mouse       20.0\n",
       "1   2        teclado       30.0\n",
       "2   3  laptop básico     2300.0\n",
       "3   4   laptop gamer     5300.0\n",
       "4   5        monitor     1500.0\n",
       "5   6     impressora      700.0\n",
       "6   7     carregador      150.0\n",
       "7   8        cadeira      540.0\n",
       "8   9           mesa      860.0\n",
       "9  10       xxx-231a  3211352.0"
      ]
     },
     "execution_count": 8,
     "metadata": {},
     "output_type": "execute_result"
    }
   ],
   "source": [
    "dfProdutos"
   ]
  },
  {
   "cell_type": "code",
   "execution_count": 9,
   "metadata": {},
   "outputs": [
    {
     "data": {
      "image/png": "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",
      "text/plain": [
       "<Figure size 640x480 with 1 Axes>"
      ]
     },
     "metadata": {},
     "output_type": "display_data"
    }
   ],
   "source": [
    "dfProdutos.boxplot(column=['valor'])\n",
    "plt.show()"
   ]
  },
  {
   "cell_type": "code",
   "execution_count": 10,
   "metadata": {},
   "outputs": [
    {
     "data": {
      "text/html": [
       "<div>\n",
       "<style scoped>\n",
       "    .dataframe tbody tr th:only-of-type {\n",
       "        vertical-align: middle;\n",
       "    }\n",
       "\n",
       "    .dataframe tbody tr th {\n",
       "        vertical-align: top;\n",
       "    }\n",
       "\n",
       "    .dataframe thead th {\n",
       "        text-align: right;\n",
       "    }\n",
       "</style>\n",
       "<table border=\"1\" class=\"dataframe\">\n",
       "  <thead>\n",
       "    <tr style=\"text-align: right;\">\n",
       "      <th></th>\n",
       "      <th>id</th>\n",
       "      <th>produto</th>\n",
       "      <th>valor</th>\n",
       "    </tr>\n",
       "  </thead>\n",
       "  <tbody>\n",
       "    <tr>\n",
       "      <th>9</th>\n",
       "      <td>10</td>\n",
       "      <td>xxx-231a</td>\n",
       "      <td>3211352.0</td>\n",
       "    </tr>\n",
       "  </tbody>\n",
       "</table>\n",
       "</div>"
      ],
      "text/plain": [
       "   id   produto      valor\n",
       "9  10  xxx-231a  3211352.0"
      ]
     },
     "execution_count": 10,
     "metadata": {},
     "output_type": "execute_result"
    }
   ],
   "source": [
    "dfProdutos[dfProdutos.valor>=3000000]"
   ]
  },
  {
   "cell_type": "code",
   "execution_count": 11,
   "metadata": {},
   "outputs": [
    {
     "data": {
      "image/png": "iVBORw0KGgoAAAANSUhEUgAAAjAAAAGdCAYAAAAMm0nCAAAAOXRFWHRTb2Z0d2FyZQBNYXRwbG90bGliIHZlcnNpb24zLjguMiwgaHR0cHM6Ly9tYXRwbG90bGliLm9yZy8g+/7EAAAACXBIWXMAAA9hAAAPYQGoP6dpAAAmZUlEQVR4nO3df3RU9Z3/8Vd+TAaSMAmgSWAJmkqXEAwiaMm0/kKTTCFyQGIXa4psxe2RDX4bUqVND8sK7UqXVYEuBbeH3Y1+D+wKFGkFKpkGCSiDYNp0A0WO2tiwC5NUaTJAYDJJ7vePfnPXkR8mEJj5hOfjHA7OvZ9c3pdzbubpnRkSY1mWJQAAAIPERnoAAACA3iJgAACAcQgYAABgHAIGAAAYh4ABAADGIWAAAIBxCBgAAGAcAgYAABgnPtIDXC1dXV06fvy4Bg0apJiYmEiPAwAAesCyLJ06dUrDhw9XbOzF77P024A5fvy4MjMzIz0GAAC4DMeOHdOIESMuur/fBsygQYMk/fkvwOVyRXgaAH0pFAqpqqpKhYWFcjgckR4HQB8KBALKzMy0n8cvpt8GTPfLRi6Xi4AB+plQKKTExES5XC4CBuinPu/tH7yJFwAAGIeAAQAAxiFgAACAcQgYAABgHAIGAAAYh4ABAADGIWAAAIBxCBgAAGAcAgaAUTo7O1VTU6M9e/aopqZGnZ2dkR4JQAQQMACMsWXLFo0aNUoFBQV68cUXVVBQoFGjRmnLli2RHg3ANUbAADDCli1b9PDDDys3N1d79+7Vf/zHf2jv3r3Kzc3Vww8/TMQA15kYy7KsSA9xNQQCAaWkpKi1tZWfhQQYrrOzU6NGjVJubq62bt2qzs5O7dixQ1OnTlVcXJxmzJihQ4cO6f3331dcXFykxwVwBXr6/M0dGABRb+/evfroo4/0/e9/X7Gx4d+2YmNjVVFRoYaGBu3duzdCEwK41ggYAFHvxIkTkqRbb731gvu7t3evA9D/ETAAot6wYcMkSYcOHbrg/u7t3esA9H8EDICod/fdd+vmm2/Wc889p66urrB9XV1dWrZsmbKysnT33XdHaEIA1xoBAyDqxcXF6YUXXtC2bds0Y8YM7d+/X2fPntX+/fs1Y8YMbdu2Tc8//zxv4AWuI/GRHgAAemLmzJnavHmzvvOd7+iee+6xt2dlZWnz5s2aOXNmBKcDcK3xMWoARuns7NSbb76pX/7yl5oyZYomT57MnRegH+np8zd3YAAYJS4uTvfee6/OnDmje++9l3gBrlO8BwYAABiHgAEAAMYhYAAAgHEIGAAAYBwCBgAAGIeAAQAAxiFgAACAcQgYAABgnF4FzLPPPquYmJiwX9nZ2fb+c+fOqbS0VEOHDlVycrKKi4vV1NQUdozGxkYVFRUpMTFRaWlpeuaZZ9TR0RG2Zvfu3ZowYYKcTqdGjRqlysrKyz9DAADQ7/T6DszYsWN14sQJ+9dbb71l71uwYIFef/11bdq0STU1NTp+/HjYzyfp7OxUUVGR2tvbtW/fPr388suqrKzU4sWL7TUNDQ0qKirS5MmTVVdXp7KyMj3xxBPauXPnFZ4qAADoL3r9owTi4+OVkZFx3vbW1lb967/+qzZs2KD7779fkvTv//7vGjNmjPbv36+8vDxVVVXpd7/7nX71q18pPT1d48eP1w9+8AN997vf1bPPPquEhAS99NJLysrK0gsvvCBJGjNmjN566y2tWLFCHo/nCk8XAAD0B72+A/P+++9r+PDh+sIXvqCSkhI1NjZKkmpraxUKhZSfn2+vzc7O1siRI+Xz+SRJPp9Pubm5Sk9Pt9d4PB4FAgEdPnzYXvPpY3Sv6T4GAABAr+7ATJo0SZWVlRo9erROnDihJUuW6O6779ahQ4fk9/uVkJCg1NTUsK9JT0+X3++XJPn9/rB46d7fve9SawKBgM6ePauBAwdecLZgMKhgMGg/DgQCkqRQKKRQKNSb0wQQ5bqvaa5toP/p6XXdq4CZMmWK/d/jxo3TpEmTdNNNN2njxo0XDYtrZdmyZVqyZMl526uqqpSYmBiBiQBcbV6vN9IjAOhjbW1tPVrX6/fAfFpqaqr+8i//Uh988IEKCgrU3t6ulpaWsLswTU1N9ntmMjIydODAgbBjdH9K6dNrPvvJpaamJrlcrktGUkVFhcrLy+3HgUBAmZmZKiwslMvlupLTBBBlQqGQvF6vCgoK5HA4Ij0OgD7U/QrK57migDl9+rQ+/PBDzZ49WxMnTpTD4VB1dbWKi4slSUePHlVjY6Pcbrckye126x/+4R/U3NystLQ0SX/+PyiXy6WcnBx7zY4dO8L+HK/Xax/jYpxOp5xO53nbHQ4H3+CAforrG+h/enpN9+pNvE8//bRqamr00Ucfad++fXrooYcUFxenr3/960pJSdHcuXNVXl6uN998U7W1tfrmN78pt9utvLw8SVJhYaFycnI0e/Zs/fa3v9XOnTu1aNEilZaW2vHx5JNP6ve//70WLlyo9957T2vWrNHGjRu1YMGCXv4VAACA/qpXd2D++7//W1//+tf1ySef6MYbb9Rdd92l/fv368Ybb5QkrVixQrGxsSouLlYwGJTH49GaNWvsr4+Li9O2bds0b948ud1uJSUlac6cOVq6dKm9JisrS9u3b9eCBQu0atUqjRgxQuvWreMj1AAAwBZjWZYV6SGuhkAgoJSUFLW2tvIeGKCfCYVC2rFjh6ZOncpLSEA/09Pnb34WEgAAMA4BAwAAjEPAAAAA4xAwAADAOAQMAAAwDgEDAACMQ8AAAADjEDAAAMA4BAwAADAOAQMAAIxDwAAAAOMQMAAAwDgEDAAAMA4BAwAAjEPAAAAA4xAwAADAOAQMAAAwDgEDAACMQ8AAAADjEDAAAMA4BAwAADAOAQMAAIxDwAAAAOMQMAAAwDgEDAAAMA4BAwAAjEPAAAAA4xAwAADAOAQMAAAwDgEDAACMQ8AAAADjEDAAAMA4BAwAADAOAQMAAIxDwAAAAOMQMAAAwDgEDAAAMA4BAwAAjEPAAAAA4xAwAADAOAQMAAAwDgEDAACMQ8AAAADjEDAAAMA4BAwAADAOAQMAAIxDwAAAAOMQMAAAwDgEDAAAMA4BAwAAjEPAAAAA4xAwAADAOAQMAAAwzhUFzI9+9CPFxMSorKzM3nbu3DmVlpZq6NChSk5OVnFxsZqamsK+rrGxUUVFRUpMTFRaWpqeeeYZdXR0hK3ZvXu3JkyYIKfTqVGjRqmysvJKRgUAAP3IZQfMwYMH9S//8i8aN25c2PYFCxbo9ddf16ZNm1RTU6Pjx49r5syZ9v7Ozk4VFRWpvb1d+/bt08svv6zKykotXrzYXtPQ0KCioiJNnjxZdXV1Kisr0xNPPKGdO3de7rgAAKA/sS7DqVOnrC9+8YuW1+u17r33Xuvb3/62ZVmW1dLSYjkcDmvTpk322iNHjliSLJ/PZ1mWZe3YscOKjY21/H6/vWbt2rWWy+WygsGgZVmWtXDhQmvs2LFhf+asWbMsj8fT4xlbW1stSVZra+vlnCKAKNbe3m5t3brVam9vj/QoAPpYT5+/4y8nekpLS1VUVKT8/Hz98Ic/tLfX1tYqFAopPz/f3padna2RI0fK5/MpLy9PPp9Pubm5Sk9Pt9d4PB7NmzdPhw8f1u233y6fzxd2jO41n36p6rOCwaCCwaD9OBAISJJCoZBCodDlnCaAKNV9TXNtA/1PT6/rXgfMf/7nf+rXv/61Dh48eN4+v9+vhIQEpaamhm1PT0+X3++313w6Xrr3d++71JpAIKCzZ89q4MCB5/3Zy5Yt05IlS87bXlVVpcTExJ6fIABjeL3eSI8AoI+1tbX1aF2vAubYsWP69re/La/XqwEDBlzWYFdLRUWFysvL7ceBQECZmZkqLCyUy+WK4GQA+looFJLX61VBQYEcDkekxwHQh7pfQfk8vQqY2tpaNTc3a8KECfa2zs5O7dmzR6tXr9bOnTvV3t6ulpaWsLswTU1NysjIkCRlZGTowIEDYcft/pTSp9d89pNLTU1NcrlcF7z7IklOp1NOp/O87Q6Hg29wQD/F9Q30Pz29pnv1KaQHHnhA9fX1qqurs3/dcccdKikpsf/b4XCourra/pqjR4+qsbFRbrdbkuR2u1VfX6/m5mZ7jdfrlcvlUk5Ojr3m08foXtN9DAAAcH3r1R2YQYMG6dZbbw3blpSUpKFDh9rb586dq/Lycg0ZMkQul0tPPfWU3G638vLyJEmFhYXKycnR7NmztXz5cvn9fi1atEilpaX2HZQnn3xSq1ev1sKFC/X4449r165d2rhxo7Zv394X5wwAAAx3WZ9CupQVK1YoNjZWxcXFCgaD8ng8WrNmjb0/Li5O27Zt07x58+R2u5WUlKQ5c+Zo6dKl9pqsrCxt375dCxYs0KpVqzRixAitW7dOHo+nr8cFAAAGirEsy4r0EFdDIBBQSkqKWltbeRMv0M+EQiHt2LFDU6dO5T0wQD/T0+dvfhYSAAAwDgEDAACMQ8AAAADjEDAAAMA4BAwAADAOAQMAAIxDwAAAAOMQMAAAwDgEDAAAMA4BAwAAjEPAAAAA4xAwAADAOAQMAAAwDgEDAACMQ8AAAADjEDAAAMA4BAwAADAOAQMAAIxDwAAAAOMQMAAAwDgEDAAAMA4BAwAAjEPAAAAA4xAwAADAOAQMAAAwDgEDAACMQ8AAAADjEDAAAMA4BAwAADAOAQMAAIxDwAAAAOMQMAAAwDgEDAAAMA4BAwAAjEPAAAAA4xAwAADAOAQMAAAwDgEDAACMQ8AAAADjEDAAAMA4BAwAADAOAQMAAIxDwAAAAOMQMAAAwDgEDAAAMA4BAwAAjEPAAAAA4xAwAADAOAQMAAAwDgEDAACMQ8AAAADjEDAAAMA4BAwAADBOrwJm7dq1GjdunFwul1wul9xut375y1/a+8+dO6fS0lINHTpUycnJKi4uVlNTU9gxGhsbVVRUpMTERKWlpemZZ55RR0dH2Jrdu3drwoQJcjqdGjVqlCorKy//DAEAQL/Tq4AZMWKEfvSjH6m2tlbvvvuu7r//fk2fPl2HDx+WJC1YsECvv/66Nm3apJqaGh0/flwzZ860v76zs1NFRUVqb2/Xvn379PLLL6uyslKLFy+21zQ0NKioqEiTJ09WXV2dysrK9MQTT2jnzp19dMoAAMB41hUaPHiwtW7dOqulpcVyOBzWpk2b7H1HjhyxJFk+n8+yLMvasWOHFRsba/n9fnvN2rVrLZfLZQWDQcuyLGvhwoXW2LFjw/6MWbNmWR6Pp1dztba2WpKs1tbWyz01AFGqvb3d2rp1q9Xe3h7pUQD0sZ4+f8dfbvh0dnZq06ZNOnPmjNxut2praxUKhZSfn2+vyc7O1siRI+Xz+ZSXlyefz6fc3Fylp6fbazwej+bNm6fDhw/r9ttvl8/nCztG95qysrJLzhMMBhUMBu3HgUBAkhQKhRQKhS73NAFEoe5rmmsb6H96el33OmDq6+vldrt17tw5JScn67XXXlNOTo7q6uqUkJCg1NTUsPXp6eny+/2SJL/fHxYv3fu7911qTSAQ0NmzZzVw4MALzrVs2TItWbLkvO1VVVVKTEzs7WkCMIDX6430CAD6WFtbW4/W9TpgRo8erbq6OrW2tmrz5s2aM2eOampqej1gX6uoqFB5ebn9OBAIKDMzU4WFhXK5XBGcDEBfC4VC8nq9KigokMPhiPQ4APpQ9yson6fXAZOQkKBRo0ZJkiZOnKiDBw9q1apVmjVrltrb29XS0hJ2F6apqUkZGRmSpIyMDB04cCDseN2fUvr0ms9+cqmpqUkul+uid18kyel0yul0nrfd4XDwDQ7op7i+gf6np9f0Ff87MF1dXQoGg5o4caIcDoeqq6vtfUePHlVjY6Pcbrckye12q76+Xs3NzfYar9crl8ulnJwce82nj9G9pvsYAAAAvboDU1FRoSlTpmjkyJE6deqUNmzYoN27d2vnzp1KSUnR3LlzVV5eriFDhsjlcumpp56S2+1WXl6eJKmwsFA5OTmaPXu2li9fLr/fr0WLFqm0tNS+e/Lkk09q9erVWrhwoR5//HHt2rVLGzdu1Pbt2/v+7AEAgJF6FTDNzc167LHHdOLECaWkpGjcuHHauXOnCgoKJEkrVqxQbGysiouLFQwG5fF4tGbNGvvr4+LitG3bNs2bN09ut1tJSUmaM2eOli5daq/JysrS9u3btWDBAq1atUojRozQunXr5PF4+uiUAQCA6WIsy7IiPcTVEAgElJKSotbWVt7EC/QzoVBIO3bs0NSpU3kPDNDP9PT5m5+FBAAAjEPAAAAA4xAwAADAOAQMAAAwDgEDAACMQ8AAAADjEDAAAMA4BAwAADAOAQMAAIxDwAAAAOMQMAAAwDgEDAAAMA4BAwAAjEPAAAAA4xAwAADAOAQMAAAwDgEDAACMQ8AAAADjEDAAAMA4BAwAADAOAQMAAIxDwAAAAOMQMAAAwDgEDAAAMA4BAwAAjEPAAAAA4xAwAADAOAQMAAAwDgEDAACMQ8AAAADjEDAAAMA4BAwAADAOAQMAAIxDwAAAAOMQMAAAwDgEDAAAME58pAcAcH1oa2vTe++91yfHOn02qH31H2rwDe8qeaDzio+XnZ2txMTEPpgMwLVCwAC4Jt577z1NnDixT4+5vI+OU1tbqwkTJvTR0QBcCwQMgGsiOztbtbW1fXKsoydaVL6pXi9+LVejh6Ve8fGys7OvfCgA1xQBA+CaSExM7LO7HLF/+ETOvWc15tbbNP6moX1yTABm4U28AADAOAQMAAAwDgEDAACMQ8AAAADjEDAAAMA4BAwAADAOAQMAAIxDwAAAAOMQMAAAwDgEDAAAMA4BAwAAjEPAAAAA4/QqYJYtW6Y777xTgwYNUlpammbMmKGjR4+GrTl37pxKS0s1dOhQJScnq7i4WE1NTWFrGhsbVVRUpMTERKWlpemZZ55RR0dH2Jrdu3drwoQJcjqdGjVqlCorKy/vDAEAQL/Tq4CpqalRaWmp9u/fL6/Xq1AopMLCQp05c8Zes2DBAr3++uvatGmTampqdPz4cc2cOdPe39nZqaKiIrW3t2vfvn16+eWXVVlZqcWLF9trGhoaVFRUpMmTJ6uurk5lZWV64okntHPnzj44ZQAAYDzrCjQ3N1uSrJqaGsuyLKulpcVyOBzWpk2b7DVHjhyxJFk+n8+yLMvasWOHFRsba/n9fnvN2rVrLZfLZQWDQcuyLGvhwoXW2LFjw/6sWbNmWR6Pp8eztba2WpKs1tbWyz4/ANHpNx99bN303W3Wbz76ONKjAOhjPX3+jr+S+GltbZUkDRkyRJJUW1urUCik/Px8e012drZGjhwpn8+nvLw8+Xw+5ebmKj093V7j8Xg0b948HT58WLfffrt8Pl/YMbrXlJWVXXSWYDCoYDBoPw4EApKkUCikUCh0JacJIMp0v+Tc0dHB9Q30Mz29pi87YLq6ulRWVqavfOUruvXWWyVJfr9fCQkJSk1NDVubnp4uv99vr/l0vHTv7953qTWBQEBnz57VwIEDz5tn2bJlWrJkyXnbq6qqlJiYeHknCSAqHTstSfHav3+//udQpKcB0Jfa2tp6tO6yA6a0tFSHDh3SW2+9dbmH6FMVFRUqLy+3HwcCAWVmZqqwsFAulyuCkwHoa79tPCnVv6u8vDzdNnJIpMcB0Ie6X0H5PJcVMPPnz9e2bdu0Z88ejRgxwt6ekZGh9vZ2tbS0hN2FaWpqUkZGhr3mwIEDYcfr/pTSp9d89pNLTU1NcrlcF7z7IklOp1NOp/O87Q6HQw6Ho/cnCSBqxcfH279zfQP9S0+v6V59CsmyLM2fP1+vvfaadu3apaysrLD9EydOlMPhUHV1tb3t6NGjamxslNvtliS53W7V19erubnZXuP1euVyuZSTk2Ov+fQxutd0HwMAAFzfenUHprS0VBs2bNDPf/5zDRo0yH7PSkpKigYOHKiUlBTNnTtX5eXlGjJkiFwul5566im53W7l5eVJkgoLC5WTk6PZs2dr+fLl8vv9WrRokUpLS+07KE8++aRWr16thQsX6vHHH9euXbu0ceNGbd++vY9PHwAAmKhXd2DWrl2r1tZW3XfffRo2bJj969VXX7XXrFixQg8++KCKi4t1zz33KCMjQ1u2bLH3x8XFadu2bYqLi5Pb7dY3vvENPfbYY1q6dKm9JisrS9u3b5fX69Vtt92mF154QevWrZPH4+mDUwYAAKaLsSzLivQQV0MgEFBKSopaW1t5Ey/Qz9T94RPNWLtfW+flafxNQyM9DoA+1NPnb34WEgAAMA4BAwAAjEPAAAAA4xAwAADAOAQMAAAwDgEDAACMQ8AAAADjEDAAAMA4BAwAADAOAQMAAIxDwAAAAOMQMAAAwDgEDAAAMA4BAwAAjEPAAAAA4xAwAADAOAQMAAAwDgEDAACMQ8AAAADjEDAAAMA4BAwAADAOAQMAAIxDwAAAAOMQMAAAwDjxkR4AQPRr+PiMzgQ7Ij2G7cM/nrF/j4+Pnm9jSc54Zd2QFOkxgOtC9Fz5AKJSw8dnNPn53ZEe44K+s7k+0iOc582n7yNigGuAgAFwSd13XlbOGq9RackRnubPzpwNattunx68z62kgc5IjyNJ+qD5tMperYuqO1VAf0bAAOiRUWnJuvUvUiI9hiQpFArJf6M04abBcjgckR4HQATwJl4AAGAcAgYAABiHgAEAAMYhYAAAgHEIGAAAYBwCBgAAGIeAAQAAxiFgAACAcQgYAABgHAIGAAAYh4ABAADGIWAAAIBxCBgAAGAcAgYAABiHgAEAAMYhYAAAgHEIGAAAYBwCBgAAGIeAAQAAxiFgAACAcQgYAABgHAIGAAAYh4ABAADGIWAAAIBxCBgAAGCcXgfMnj17NG3aNA0fPlwxMTHaunVr2H7LsrR48WINGzZMAwcOVH5+vt5///2wNSdPnlRJSYlcLpdSU1M1d+5cnT59OmzNf/3Xf+nuu+/WgAEDlJmZqeXLl/f+7AAAQL/U64A5c+aMbrvtNv3kJz+54P7ly5frxz/+sV566SW98847SkpKksfj0blz5+w1JSUlOnz4sLxer7Zt26Y9e/boW9/6lr0/EAiosLBQN910k2pra/VP//RPevbZZ/XTn/70Mk4RAAD0N/G9/YIpU6ZoypQpF9xnWZZWrlypRYsWafr06ZKkV155Renp6dq6daseeeQRHTlyRG+88YYOHjyoO+64Q5L0z//8z5o6daqef/55DR8+XOvXr1d7e7v+7d/+TQkJCRo7dqzq6ur04osvhoUOAAC4PvU6YC6loaFBfr9f+fn59raUlBRNmjRJPp9PjzzyiHw+n1JTU+14kaT8/HzFxsbqnXfe0UMPPSSfz6d77rlHCQkJ9hqPx6N//Md/1J/+9CcNHjz4vD87GAwqGAzajwOBgCQpFAopFAr15WkC15WOjg7792i5lrrniJZ5pOj8ewJM1NPrp08Dxu/3S5LS09PDtqenp9v7/H6/0tLSwoeIj9eQIUPC1mRlZZ13jO59FwqYZcuWacmSJedtr6qqUmJi4mWeEYBjpyUpXm+99Zb+kBzpacJ5vd5Ij2CL5r8nwCRtbW09WtenARNJFRUVKi8vtx8HAgFlZmaqsLBQLpcrgpMBZjt8PKDn6/frrrvu0tjh0XEthUIheb1eFRQUyOFwRHocSdH59wSYqPsVlM/TpwGTkZEhSWpqatKwYcPs7U1NTRo/fry9prm5OezrOjo6dPLkSfvrMzIy1NTUFLam+3H3ms9yOp1yOp3nbXc4HFHzDQ4wUXx8vP17tF1L0XR9R/PfE2CSnl4/ffrvwGRlZSkjI0PV1dX2tkAgoHfeeUdut1uS5Ha71dLSotraWnvNrl271NXVpUmTJtlr9uzZE/Y6mNfr1ejRoy/48hEAALi+9DpgTp8+rbq6OtXV1Un68xt36+rq1NjYqJiYGJWVlemHP/yhfvGLX6i+vl6PPfaYhg8frhkzZkiSxowZo69+9av6m7/5Gx04cEBvv/225s+fr0ceeUTDhw+XJD366KNKSEjQ3LlzdfjwYb366qtatWpV2EtEAADg+tXrl5DeffddTZ482X7cHRVz5sxRZWWlFi5cqDNnzuhb3/qWWlpadNddd+mNN97QgAED7K9Zv3695s+frwceeECxsbEqLi7Wj3/8Y3t/SkqKqqqqVFpaqokTJ+qGG27Q4sWL+Qg1AACQdBkBc99998myrIvuj4mJ0dKlS7V06dKLrhkyZIg2bNhwyT9n3Lhx2rt3b2/HAwAA1wF+FhIAADAOAQMAAIxDwAAAAOMQMAAAwDgEDAAAMA4BAwAAjEPAAAAA4xAwAADAOAQMAAAwDgEDAACMQ8AAAADj9PpnIQG4/sTEB9QQOKrYAcmRHkWS1NHRoeMdx3Xk5BHFx0fHt7GGwGnFxAciPQZw3YiOKx9AVHOkvqPvH3gu0mOcZ80bayI9QhhH6gOSpkZ6DOC6QMAA+Fyhlkl6oehR3ZIWPXdg3n7rbX3lrq9EzR2YD5tP6/+s/zDSYwDXjei48gFENavDpSzXaOUMTYn0KJKkUCikhvgGjRkyRg6HI9LjSJK6zrXK6vhjpMcArhu8iRcAABiHgAEAAMYhYAAAgHEIGAAAYBwCBgAAGIeAAQAAxiFgAACAcQgYAABgHAIGAAAYh4ABAADGIWAAAIBxCBgAAGAcAgYAABiHgAEAAMYhYAAAgHEIGAAAYBwCBgAAGIeAAQAAxiFgAACAcQgYAABgHAIGAAAYh4ABAADGIWAAAIBxCBgAAGAcAgYAABiHgAEAAMYhYAAAgHEIGAAAYBwCBgAAGIeAAQAAxiFgAACAceIjPQCA6HY21ClJOvQ/rRGe5H+dORvUu3+UMv7wJyUNdEZ6HEnSB82nIz0CcF0hYABc0of//4n5e1vqIzzJZ8Xr/35wMNJDnCfJybdV4FrgSgNwSYVjMyRJt6Qla6AjLsLT/NnRE636zuZ6vfBwrkYPS4n0OLYkZ7yybkiK9BjAdYGAAXBJQ5IS9MiXRkZ6jDAdHR2SpFtuTNKtfxE9AQPg2uFNvAAAwDgEDAAAMA4BAwAAjBPVAfOTn/xEN998swYMGKBJkybpwIEDkR4JAABEgah9E++rr76q8vJyvfTSS5o0aZJWrlwpj8ejo0ePKi0tLdLjAeiltrY2vffee31yrKMnWhT0f6Ajhwaq65PUKz5edna2EhMTr3wwANdMjGVZVqSHuJBJkybpzjvv1OrVqyVJXV1dyszM1FNPPaXvfe97n/v1gUBAKSkpam1tlcvlutrjAvgcv/71rzVx4sRIj3FBtbW1mjBhQqTHAKCeP39H5R2Y9vZ21dbWqqKiwt4WGxur/Px8+Xy+C35NMBhUMBi0HwcCAUlSKBRSKBS6ugMD+Fy33HKL3nnnnT451umzQe3ce1Ceu+9Uch/8S7y33HIL3yeAKNHTazEqA+bjjz9WZ2en0tPTw7anp6df9Bb0smXLtGTJkvO2V1VVcWsY6Ie+nHuLTrWc1KmWKz/WiRMnrvwgAPpEW1tbj9ZFZcBcjoqKCpWXl9uPA4GAMjMzVVhYyEtIQD8TCoXk9XpVUFAgh8MR6XEA9KHuV1A+T1QGzA033KC4uDg1NTWFbW9qalJGRsYFv8bpdMrpPP9WssPh4Bsc0E9xfQP9T0+v6aj8GHVCQoImTpyo6upqe1tXV5eqq6vldrsjOBkAAIgGUXkHRpLKy8s1Z84c3XHHHfrSl76klStX6syZM/rmN78Z6dEAAECERW3AzJo1S3/84x+1ePFi+f1+jR8/Xm+88cZ5b+wFAADXn6gNGEmaP3++5s+fH+kxAABAlInK98AAAABcCgEDAACMQ8AAAADjEDAAAMA4BAwAADAOAQMAAIxDwAAAAONE9b8DcyUsy5LU8x8KBcAcoVBIbW1tCgQC/CwkoJ/pft7ufh6/mH4bMKdOnZIkZWZmRngSAADQW6dOnVJKSspF98dYn5c4hurq6tLx48c1aNAgxcTERHocAH0oEAgoMzNTx44dk8vlivQ4APqQZVk6deqUhg8frtjYi7/Tpd8GDID+KxAIKCUlRa2trQQMcJ3iTbwAAMA4BAwAADAOAQPAOE6nU3//938vp9MZ6VEARAjvgQEAAMbhDgwAADAOAQMAAIxDwAAAAOMQMACMdPPNN2vlypWRHgNAhBAwAADAOAQMgOtSe3t7pEcAcAUIGADX3E9/+lMNHz5cXV1dYdunT5+uxx9/XB9++KGmT5+u9PR0JScn684779SvfvWrSx6zsbFR06dPV3Jyslwul/7qr/5KTU1N9v5nn31W48eP17p165SVlaUBAwZclXMDcG0QMACuua997Wv65JNP9Oabb9rbTp48qTfeeEMlJSU6ffq0pk6dqurqav3mN7/RV7/6VU2bNk2NjY0XPF5XV5emT5+ukydPqqamRl6vV7///e81a9assHUffPCBfvazn2nLli2qq6u7mqcI4CqLj/QAAK4/gwcP1pQpU7RhwwY98MADkqTNmzfrhhtu0OTJkxUbG6vbbrvNXv+DH/xAr732mn7xi19o/vz55x2vurpa9fX1amhoUGZmpiTplVde0dixY3Xw4EHdeeedkv78stErr7yiG2+88RqcJYCriTswACKipKREP/vZzxQMBiVJ69ev1yOPPKLY2FidPn1aTz/9tMaMGaPU1FQlJyfryJEjF70Dc+TIEWVmZtrxIkk5OTlKTU3VkSNH7G033XQT8QL0EwQMgIiYNm2aLMvS9u3bdezYMe3du1clJSWSpKefflqvvfaannvuOe3du1d1dXXKzc294jfeJiUl9cXoAKIALyEBiIgBAwZo5syZWr9+vT744AONHj1aEyZMkCS9/fbb+uu//ms99NBDkqTTp0/ro48+uuixxowZo2PHjunYsWP2XZjf/e53amlpUU5OzlU/FwDXHgEDIGJKSkr04IMP6vDhw/rGN75hb//iF7+oLVu2aNq0aYqJidHf/d3fnfeJpU/Lz89Xbm6uSkpKtHLlSnV0dOhv//Zvde+99+qOO+64FqcC4BrjJSQAEXP//fdryJAhOnr0qB599FF7+4svvqjBgwfry1/+sqZNmyaPx2PfnbmQmJgY/fznP9fgwYN1zz33KD8/X1/4whf06quvXovTABABMZZlWZEeAgAAoDe4AwMAAIxDwAAAAOMQMAAAwDgEDAAAMA4BAwAAjEPAAAAA4xAwAADAOAQMAAAwDgEDAACMQ8AAAADjEDAAAMA4BAwAADDO/wNSCOkH+3ibigAAAABJRU5ErkJggg==",
      "text/plain": [
       "<Figure size 640x480 with 1 Axes>"
      ]
     },
     "metadata": {},
     "output_type": "display_data"
    }
   ],
   "source": [
    "dfProdutos[dfProdutos.valor<3000000].boxplot(column=['valor'])\n",
    "plt.show()"
   ]
  },
  {
   "cell_type": "code",
   "execution_count": 12,
   "metadata": {},
   "outputs": [
    {
     "data": {
      "text/plain": [
       "id            182\n",
       "id_cliente    182\n",
       "id_loja       182\n",
       "id_produto    182\n",
       "dt_venda      182\n",
       "dtype: int64"
      ]
     },
     "execution_count": 12,
     "metadata": {},
     "output_type": "execute_result"
    }
   ],
   "source": [
    "dfVendas[dfVendas.id_produto==10].count()"
   ]
  },
  {
   "cell_type": "code",
   "execution_count": 13,
   "metadata": {},
   "outputs": [
    {
     "data": {
      "text/html": [
       "<div>\n",
       "<style scoped>\n",
       "    .dataframe tbody tr th:only-of-type {\n",
       "        vertical-align: middle;\n",
       "    }\n",
       "\n",
       "    .dataframe tbody tr th {\n",
       "        vertical-align: top;\n",
       "    }\n",
       "\n",
       "    .dataframe thead th {\n",
       "        text-align: right;\n",
       "    }\n",
       "</style>\n",
       "<table border=\"1\" class=\"dataframe\">\n",
       "  <thead>\n",
       "    <tr style=\"text-align: right;\">\n",
       "      <th></th>\n",
       "      <th>id</th>\n",
       "      <th>id_cliente</th>\n",
       "      <th>id_loja</th>\n",
       "      <th>id_produto</th>\n",
       "      <th>dt_venda</th>\n",
       "    </tr>\n",
       "  </thead>\n",
       "  <tbody>\n",
       "    <tr>\n",
       "      <th>count</th>\n",
       "      <td>3000.000000</td>\n",
       "      <td>3000.000000</td>\n",
       "      <td>3000.000000</td>\n",
       "      <td>3000.000000</td>\n",
       "      <td>3000</td>\n",
       "    </tr>\n",
       "    <tr>\n",
       "      <th>mean</th>\n",
       "      <td>1500.500000</td>\n",
       "      <td>500.763667</td>\n",
       "      <td>4.538333</td>\n",
       "      <td>4.435000</td>\n",
       "      <td>2019-05-17 17:48:28.799999744</td>\n",
       "    </tr>\n",
       "    <tr>\n",
       "      <th>min</th>\n",
       "      <td>1.000000</td>\n",
       "      <td>1.000000</td>\n",
       "      <td>1.000000</td>\n",
       "      <td>1.000000</td>\n",
       "      <td>2018-01-04 00:00:00</td>\n",
       "    </tr>\n",
       "    <tr>\n",
       "      <th>25%</th>\n",
       "      <td>750.750000</td>\n",
       "      <td>254.750000</td>\n",
       "      <td>2.000000</td>\n",
       "      <td>3.000000</td>\n",
       "      <td>2018-09-09 00:00:00</td>\n",
       "    </tr>\n",
       "    <tr>\n",
       "      <th>50%</th>\n",
       "      <td>1500.500000</td>\n",
       "      <td>503.500000</td>\n",
       "      <td>4.000000</td>\n",
       "      <td>3.000000</td>\n",
       "      <td>2019-05-20 00:00:00</td>\n",
       "    </tr>\n",
       "    <tr>\n",
       "      <th>75%</th>\n",
       "      <td>2250.250000</td>\n",
       "      <td>742.000000</td>\n",
       "      <td>7.000000</td>\n",
       "      <td>6.000000</td>\n",
       "      <td>2020-01-29 06:00:00</td>\n",
       "    </tr>\n",
       "    <tr>\n",
       "      <th>max</th>\n",
       "      <td>3000.000000</td>\n",
       "      <td>1000.000000</td>\n",
       "      <td>10.000000</td>\n",
       "      <td>10.000000</td>\n",
       "      <td>2020-09-27 00:00:00</td>\n",
       "    </tr>\n",
       "    <tr>\n",
       "      <th>std</th>\n",
       "      <td>866.169729</td>\n",
       "      <td>285.322282</td>\n",
       "      <td>2.922221</td>\n",
       "      <td>2.511018</td>\n",
       "      <td>NaN</td>\n",
       "    </tr>\n",
       "  </tbody>\n",
       "</table>\n",
       "</div>"
      ],
      "text/plain": [
       "                id   id_cliente      id_loja   id_produto  \\\n",
       "count  3000.000000  3000.000000  3000.000000  3000.000000   \n",
       "mean   1500.500000   500.763667     4.538333     4.435000   \n",
       "min       1.000000     1.000000     1.000000     1.000000   \n",
       "25%     750.750000   254.750000     2.000000     3.000000   \n",
       "50%    1500.500000   503.500000     4.000000     3.000000   \n",
       "75%    2250.250000   742.000000     7.000000     6.000000   \n",
       "max    3000.000000  1000.000000    10.000000    10.000000   \n",
       "std     866.169729   285.322282     2.922221     2.511018   \n",
       "\n",
       "                            dt_venda  \n",
       "count                           3000  \n",
       "mean   2019-05-17 17:48:28.799999744  \n",
       "min              2018-01-04 00:00:00  \n",
       "25%              2018-09-09 00:00:00  \n",
       "50%              2019-05-20 00:00:00  \n",
       "75%              2020-01-29 06:00:00  \n",
       "max              2020-09-27 00:00:00  \n",
       "std                              NaN  "
      ]
     },
     "execution_count": 13,
     "metadata": {},
     "output_type": "execute_result"
    }
   ],
   "source": [
    "dfVendas.describe()"
   ]
  },
  {
   "cell_type": "code",
   "execution_count": 14,
   "metadata": {},
   "outputs": [
    {
     "data": {
      "text/plain": [
       "id          0\n",
       "id_venda    0\n",
       "dt_pgto     0\n",
       "dtype: int64"
      ]
     },
     "execution_count": 14,
     "metadata": {},
     "output_type": "execute_result"
    }
   ],
   "source": [
    "dfPag.isnull().sum()\n"
   ]
  },
  {
   "cell_type": "markdown",
   "metadata": {},
   "source": [
    "## DATA CLEANNING"
   ]
  },
  {
   "cell_type": "markdown",
   "metadata": {},
   "source": [
    "### DADOS NULOS"
   ]
  },
  {
   "cell_type": "code",
   "execution_count": 15,
   "metadata": {},
   "outputs": [
    {
     "data": {
      "text/html": [
       "<div>\n",
       "<style scoped>\n",
       "    .dataframe tbody tr th:only-of-type {\n",
       "        vertical-align: middle;\n",
       "    }\n",
       "\n",
       "    .dataframe tbody tr th {\n",
       "        vertical-align: top;\n",
       "    }\n",
       "\n",
       "    .dataframe thead th {\n",
       "        text-align: right;\n",
       "    }\n",
       "</style>\n",
       "<table border=\"1\" class=\"dataframe\">\n",
       "  <thead>\n",
       "    <tr style=\"text-align: right;\">\n",
       "      <th></th>\n",
       "      <th>id</th>\n",
       "      <th>id_cliente</th>\n",
       "      <th>id_loja</th>\n",
       "      <th>id_produto</th>\n",
       "      <th>dt_venda</th>\n",
       "    </tr>\n",
       "  </thead>\n",
       "  <tbody>\n",
       "    <tr>\n",
       "      <th>229</th>\n",
       "      <td>230</td>\n",
       "      <td>264</td>\n",
       "      <td>2</td>\n",
       "      <td>3</td>\n",
       "      <td>2018-03-28</td>\n",
       "    </tr>\n",
       "    <tr>\n",
       "      <th>562</th>\n",
       "      <td>563</td>\n",
       "      <td>264</td>\n",
       "      <td>5</td>\n",
       "      <td>3</td>\n",
       "      <td>2018-07-07</td>\n",
       "    </tr>\n",
       "    <tr>\n",
       "      <th>1438</th>\n",
       "      <td>1439</td>\n",
       "      <td>264</td>\n",
       "      <td>3</td>\n",
       "      <td>3</td>\n",
       "      <td>2019-04-29</td>\n",
       "    </tr>\n",
       "    <tr>\n",
       "      <th>2021</th>\n",
       "      <td>2022</td>\n",
       "      <td>264</td>\n",
       "      <td>6</td>\n",
       "      <td>3</td>\n",
       "      <td>2019-11-08</td>\n",
       "    </tr>\n",
       "    <tr>\n",
       "      <th>2877</th>\n",
       "      <td>2878</td>\n",
       "      <td>264</td>\n",
       "      <td>10</td>\n",
       "      <td>3</td>\n",
       "      <td>2020-08-14</td>\n",
       "    </tr>\n",
       "  </tbody>\n",
       "</table>\n",
       "</div>"
      ],
      "text/plain": [
       "        id  id_cliente  id_loja  id_produto   dt_venda\n",
       "229    230         264        2           3 2018-03-28\n",
       "562    563         264        5           3 2018-07-07\n",
       "1438  1439         264        3           3 2019-04-29\n",
       "2021  2022         264        6           3 2019-11-08\n",
       "2877  2878         264       10           3 2020-08-14"
      ]
     },
     "execution_count": 15,
     "metadata": {},
     "output_type": "execute_result"
    }
   ],
   "source": [
    "dfVendas[dfVendas.id_cliente ==264]"
   ]
  },
  {
   "cell_type": "code",
   "execution_count": 20,
   "metadata": {},
   "outputs": [],
   "source": [
    "dfClientes.loc[dfClientes.nome.isnull(), 'nome'] = 'Sem Nome'\n",
    "dfClientes.loc[dfClientes.nome.isnull(), 'sexo'] = '0'\n",
    "dfClientes.loc[dfClientes.nome.isnull(), 'dt_nasc'] = '1/1/2020'"
   ]
  },
  {
   "cell_type": "code",
   "execution_count": 22,
   "metadata": {},
   "outputs": [
    {
     "data": {
      "text/html": [
       "<div>\n",
       "<style scoped>\n",
       "    .dataframe tbody tr th:only-of-type {\n",
       "        vertical-align: middle;\n",
       "    }\n",
       "\n",
       "    .dataframe tbody tr th {\n",
       "        vertical-align: top;\n",
       "    }\n",
       "\n",
       "    .dataframe thead th {\n",
       "        text-align: right;\n",
       "    }\n",
       "</style>\n",
       "<table border=\"1\" class=\"dataframe\">\n",
       "  <thead>\n",
       "    <tr style=\"text-align: right;\">\n",
       "      <th></th>\n",
       "      <th>id</th>\n",
       "      <th>nome</th>\n",
       "      <th>sexo</th>\n",
       "      <th>dt_nasc</th>\n",
       "    </tr>\n",
       "  </thead>\n",
       "  <tbody>\n",
       "    <tr>\n",
       "      <th>269</th>\n",
       "      <td>270</td>\n",
       "      <td>Sem Nome</td>\n",
       "      <td>M</td>\n",
       "      <td>NaN</td>\n",
       "    </tr>\n",
       "    <tr>\n",
       "      <th>287</th>\n",
       "      <td>288</td>\n",
       "      <td>Victor Ribeiro</td>\n",
       "      <td>NaN</td>\n",
       "      <td>12/17/1974</td>\n",
       "    </tr>\n",
       "  </tbody>\n",
       "</table>\n",
       "</div>"
      ],
      "text/plain": [
       "      id            nome sexo     dt_nasc\n",
       "269  270        Sem Nome    M         NaN\n",
       "287  288  Victor Ribeiro  NaN  12/17/1974"
      ]
     },
     "execution_count": 22,
     "metadata": {},
     "output_type": "execute_result"
    }
   ],
   "source": [
    "dfClientes.loc[[269,287], :]"
   ]
  },
  {
   "cell_type": "code",
   "execution_count": 23,
   "metadata": {},
   "outputs": [
    {
     "data": {
      "text/plain": [
       "id         0\n",
       "nome       0\n",
       "sexo       4\n",
       "dt_nasc    4\n",
       "dtype: int64"
      ]
     },
     "execution_count": 23,
     "metadata": {},
     "output_type": "execute_result"
    }
   ],
   "source": [
    "dfClientes.isnull().sum()"
   ]
  },
  {
   "cell_type": "code",
   "execution_count": 24,
   "metadata": {},
   "outputs": [
    {
     "data": {
      "text/plain": [
       "id          0\n",
       "id_venda    0\n",
       "dt_pgto     0\n",
       "dtype: int64"
      ]
     },
     "execution_count": 24,
     "metadata": {},
     "output_type": "execute_result"
    }
   ],
   "source": [
    "dfPag.isnull().sum()"
   ]
  },
  {
   "cell_type": "markdown",
   "metadata": {},
   "source": [
    "## OUTLIERS"
   ]
  },
  {
   "cell_type": "code",
   "execution_count": 25,
   "metadata": {},
   "outputs": [
    {
     "data": {
      "text/html": [
       "<div>\n",
       "<style scoped>\n",
       "    .dataframe tbody tr th:only-of-type {\n",
       "        vertical-align: middle;\n",
       "    }\n",
       "\n",
       "    .dataframe tbody tr th {\n",
       "        vertical-align: top;\n",
       "    }\n",
       "\n",
       "    .dataframe thead th {\n",
       "        text-align: right;\n",
       "    }\n",
       "</style>\n",
       "<table border=\"1\" class=\"dataframe\">\n",
       "  <thead>\n",
       "    <tr style=\"text-align: right;\">\n",
       "      <th></th>\n",
       "      <th>id</th>\n",
       "      <th>produto</th>\n",
       "      <th>valor</th>\n",
       "    </tr>\n",
       "  </thead>\n",
       "  <tbody>\n",
       "    <tr>\n",
       "      <th>0</th>\n",
       "      <td>1</td>\n",
       "      <td>mouse</td>\n",
       "      <td>20.000</td>\n",
       "    </tr>\n",
       "    <tr>\n",
       "      <th>1</th>\n",
       "      <td>2</td>\n",
       "      <td>teclado</td>\n",
       "      <td>30.000</td>\n",
       "    </tr>\n",
       "    <tr>\n",
       "      <th>2</th>\n",
       "      <td>3</td>\n",
       "      <td>laptop básico</td>\n",
       "      <td>2300.000</td>\n",
       "    </tr>\n",
       "    <tr>\n",
       "      <th>3</th>\n",
       "      <td>4</td>\n",
       "      <td>laptop gamer</td>\n",
       "      <td>5300.000</td>\n",
       "    </tr>\n",
       "    <tr>\n",
       "      <th>4</th>\n",
       "      <td>5</td>\n",
       "      <td>monitor</td>\n",
       "      <td>1500.000</td>\n",
       "    </tr>\n",
       "    <tr>\n",
       "      <th>5</th>\n",
       "      <td>6</td>\n",
       "      <td>impressora</td>\n",
       "      <td>700.000</td>\n",
       "    </tr>\n",
       "    <tr>\n",
       "      <th>6</th>\n",
       "      <td>7</td>\n",
       "      <td>carregador</td>\n",
       "      <td>150.000</td>\n",
       "    </tr>\n",
       "    <tr>\n",
       "      <th>7</th>\n",
       "      <td>8</td>\n",
       "      <td>cadeira</td>\n",
       "      <td>540.000</td>\n",
       "    </tr>\n",
       "    <tr>\n",
       "      <th>8</th>\n",
       "      <td>9</td>\n",
       "      <td>mesa</td>\n",
       "      <td>860.000</td>\n",
       "    </tr>\n",
       "    <tr>\n",
       "      <th>9</th>\n",
       "      <td>10</td>\n",
       "      <td>xxx-231a</td>\n",
       "      <td>3211.352</td>\n",
       "    </tr>\n",
       "  </tbody>\n",
       "</table>\n",
       "</div>"
      ],
      "text/plain": [
       "   id        produto     valor\n",
       "0   1          mouse    20.000\n",
       "1   2        teclado    30.000\n",
       "2   3  laptop básico  2300.000\n",
       "3   4   laptop gamer  5300.000\n",
       "4   5        monitor  1500.000\n",
       "5   6     impressora   700.000\n",
       "6   7     carregador   150.000\n",
       "7   8        cadeira   540.000\n",
       "8   9           mesa   860.000\n",
       "9  10       xxx-231a  3211.352"
      ]
     },
     "execution_count": 25,
     "metadata": {},
     "output_type": "execute_result"
    }
   ],
   "source": [
    "dfProdutos.loc[9,'valor'] = dfProdutos.valor[9]/1000\n",
    "dfProdutos\n"
   ]
  },
  {
   "cell_type": "code",
   "execution_count": 27,
   "metadata": {},
   "outputs": [
    {
     "data": {
      "image/png": "iVBORw0KGgoAAAANSUhEUgAAAjAAAAGdCAYAAAAMm0nCAAAAOXRFWHRTb2Z0d2FyZQBNYXRwbG90bGliIHZlcnNpb24zLjguMiwgaHR0cHM6Ly9tYXRwbG90bGliLm9yZy8g+/7EAAAACXBIWXMAAA9hAAAPYQGoP6dpAAAm20lEQVR4nO3df3DU9Z3H8VeS/UES2GBAEjDBpqUFoiK/LNmrIkHInkbPKjOnFpCraEcmME1yZzhmGEbQGxRrkR6i10ENrXACntoK1CSGEIosP0yNxw+l/qCNCruoSBZI2GzC9/7o5Htu+ZVAYPcTno8ZJu73+8k3729m1jz57ndJgmVZlgAAAAySGOsBAAAAOouAAQAAxiFgAACAcQgYAABgHAIGAAAYh4ABAADGIWAAAIBxCBgAAGAcR6wHuFhOnjypAwcOqFevXkpISIj1OAAAoAMsy9LRo0c1YMAAJSae+TpLtw2YAwcOKDs7O9ZjAACA8/DZZ58pKyvrjPu7bcD06tVL0t++AR6PJ8bTAOhKTU1NqqmpUX5+vlJSUmI9DoAuFAqFlJ2dbf8cP5NuGzDtLxt5PB4CBuhmHA6HUlJS5PF4CBigmzrX7R/cxAsAAIxDwAAAAOMQMAAAwDgEDAAAMA4BAwAAjEPAAAAA4xAwAADAOAQMAAAwDgEDwCgtLS1aunSpfv3rX2vp0qVqaWmJ9UgAYoCAAWCMsrIypaamavbs2dqwYYNmz56t1NRUlZWVxXo0AJdYt/1VAgC6l7KyMj311FPKyMjQvHnzlJKSoqamJi1YsEBPPfWUJGnRokUxnhLApZJgWZYV6yEuhlAopLS0NDU2NvK7kADDtbS0KDU1VX369NHnn3+ulpYWVVVVaeLEiXK5XMrKytLXX3+t48ePy+VyxXpcABegoz+/eQkJQNxbtmyZWltb9fjjj8vhiL5w7HA4tGDBArW2tmrZsmUxmhDApUbAAIh7n3zyiSTp9ttvP+3+9u3t6wB0fwQMgLj3ve99T5K0bt260+5v396+DkD3xz0wAOIe98AAlw/ugQHQbbhcLpWUlCgYDCorK0svvviiDh8+rBdffFFZWVkKBoMqKSkhXoDLCG+jBmCE9rdIL168WLNmzbK3OxwOPfLII7yFGrjM8BISAKO0tLTomWeeUW1trW6++WYVFxdz5QXoRjr685srMACM4nK5NHPmTA0ePNi+BwbA5Yd7YAAAgHEIGAAAYBwCBgAAGIeAAQAAxiFgAACAcQgYAABgHAIGAAAYh4ABAADG6VTAPProo0pISIj6M2TIEHv/iRMnVFRUpD59+qhnz56aNGmSgsFg1DEaGhpUWFiolJQU9evXT4888ohaW1uj1mzatEkjR46U2+3WoEGDVF5efv5nCAAAup1OX4G55pprdPDgQfvPli1b7H0lJSV68803tXbtWtXW1urAgQO6++677f1tbW0qLCxUS0uLtm7dqhUrVqi8vFzz5s2z1+zfv1+FhYXKz89XfX29iouL9eCDD6qiouICTxUAAHQXnf5VAg6HQ5mZmadsb2xs1AsvvKBVq1Zp/PjxkqSXXnpJQ4cO1bZt25SXl6fKykrt3btXb7/9tjIyMjR8+HA99thjmj17th599FG5XC49//zzysnJ0dNPPy1JGjp0qLZs2aLFixfL5/Nd4OkCAIDuoNNXYD766CMNGDBA3/3udzV58mQ1NDRIkurq6hSJRDRhwgR77ZAhQzRw4ED5/X5Jkt/v13XXXaeMjAx7jc/nUygU0p49e+w13z5G+5r2YwAAAHTqCsyYMWNUXl6uwYMH6+DBg5o/f75uuukm7d69W4FAQC6XS7179476nIyMDAUCAUlSIBCIipf2/e37zrYmFAqpublZycnJp50tHA4rHA7bj0OhkCQpEokoEol05jQBxLn2++ZaW1t5fgPdTEef050KmFtvvdX+72HDhmnMmDG6+uqrtWbNmjOGxaWycOFCzZ8//5TtlZWVSklJicFEAC62mpqaWI8AoIs1NTV1aF2n74H5tt69e+sHP/iBPv74Y02cOFEtLS06cuRI1FWYYDBo3zOTmZmpHTt2RB2j/V1K317z9+9cCgaD8ng8Z42kOXPmqLS01H4cCoWUnZ2tgoICeTyeCzlNAHGmublZNTU1ys/Pj/lfngB0rfZXUM7lggLm2LFj+uSTTzR16lSNGjVKTqdT1dXVmjRpkiRp3759amhokNfrlSR5vV79x3/8hw4dOqR+/fpJkqqqquTxeJSbm2uv2bBhQ9TXqaqqso9xJm63W263+5TtTqdTTqfzQk4TQJxpv8TscDh4fgPdTEef0526ifff/u3fVFtbq7/85S/aunWr7rrrLiUlJem+++5TWlqapk+frtLSUtXU1Kiurk4//elP5fV6lZeXJ0kqKChQbm6upk6dqvfff18VFRWaO3euioqK7Ph4+OGH9emnn6qsrEwffvihli1bpjVr1qikpKST3wIAANBddeoKzOeff6777rtPX3/9ta688krdeOON2rZtm6688kpJ0uLFi5WYmKhJkyYpHA7L5/Np2bJl9ucnJSVp3bp1mjFjhrxer1JTUzVt2jQtWLDAXpOTk6P169erpKRES5YsUVZWlpYvX85bqAEAgC3Bsiwr1kNcDKFQSGlpaWpsbOQeGKCbaWpqUlVVlSZOnMhN+kA309Gf3/wuJAAAYBwCBgAAGIeAAQAAxiFgAACAcQgYAABgHAIGAAAYh4ABAADGIWAAAIBxCBgAAGAcAgYAABiHgAEAAMYhYAAAgHEIGAAAYBwCBgAAGIeAAQAAxiFgAACAcQgYAABgHAIGAAAYh4ABAADGIWAAAIBxCBgAAGAcAgYAABiHgAEAAMYhYAAAgHEIGAAAYBwCBgAAGIeAAQAAxiFgAACAcQgYAABgHAIGAAAYh4ABAADGIWAAAIBxCBgAAGAcAgYAABiHgAEAAMYhYAAAgHEIGAAAYBwCBgAAGIeAAQAAxiFgAACAcQgYAABgHAIGAAAYh4ABAADGIWAAAIBxCBgAAGAcAgYAABiHgAEAAMYhYAAAgHEIGAAAYBwCBgAAGIeAAQAAxiFgAACAcQgYAABgnAsKmCeeeEIJCQkqLi62t504cUJFRUXq06ePevbsqUmTJikYDEZ9XkNDgwoLC5WSkqJ+/frpkUceUWtra9SaTZs2aeTIkXK73Ro0aJDKy8svZFQAANCNnHfA7Ny5U//1X/+lYcOGRW0vKSnRm2++qbVr16q2tlYHDhzQ3Xffbe9va2tTYWGhWlpatHXrVq1YsULl5eWaN2+evWb//v0qLCxUfn6+6uvrVVxcrAcffFAVFRXnOy4AAOhOrPNw9OhR6/vf/75VVVVl3XzzzdbPf/5zy7Is68iRI5bT6bTWrl1rr/3ggw8sSZbf77csy7I2bNhgJSYmWoFAwF7z3HPPWR6PxwqHw5ZlWVZZWZl1zTXXRH3Ne+65x/L5fB2esbGx0ZJkNTY2ns8pAohjx48ft9544w3r+PHjsR4FQBfr6M9vx/lET1FRkQoLCzVhwgQ9/vjj9va6ujpFIhFNmDDB3jZkyBANHDhQfr9feXl58vv9uu6665SRkWGv8fl8mjFjhvbs2aMRI0bI7/dHHaN9zbdfqvp74XBY4XDYfhwKhSRJkUhEkUjkfE4TQJxqf8m5tbWV5zfQzXT0Od3pgHnllVf0pz/9STt37jxlXyAQkMvlUu/evaO2Z2RkKBAI2Gu+HS/t+9v3nW1NKBRSc3OzkpOTT/naCxcu1Pz580/ZXllZqZSUlI6fIABj1NTUxHoEAF2sqampQ+s6FTCfffaZfv7zn6uqqko9evQ4r8Euljlz5qi0tNR+HAqFlJ2drYKCAnk8nhhOBqCrNTc3q6amRvn5+af9Cw0Ac7W/gnIunQqYuro6HTp0SCNHjrS3tbW1afPmzVq6dKkqKirU0tKiI0eORF2FCQaDyszMlCRlZmZqx44dUcdtf5fSt9f8/TuXgsGgPB7PGf9n5Xa75Xa7T9nudDrldDo7c5oA4lz7JWaHw8HzG+hmOvqc7tS7kG655Rbt2rVL9fX19p/Ro0dr8uTJ9n87nU5VV1fbn7Nv3z41NDTI6/VKkrxer3bt2qVDhw7Za6qqquTxeJSbm2uv+fYx2te0HwMAAFzeOnUFplevXrr22mujtqWmpqpPnz729unTp6u0tFTp6enyeDyaNWuWvF6v8vLyJEkFBQXKzc3V1KlTtWjRIgUCAc2dO1dFRUX2FZSHH35YS5cuVVlZmR544AFt3LhRa9as0fr167vinAEAgOHO611IZ7N48WIlJiZq0qRJCofD8vl8WrZsmb0/KSlJ69at04wZM+T1epWamqpp06ZpwYIF9pqcnBytX79eJSUlWrJkibKysrR8+XL5fL6uHhcAABgowbIsK9ZDXAyhUEhpaWlqbGzkJl6gm2lqalJVVZUmTpzIuwyBbqajP7/5XUgAAMA4BAwAADAOAQMAAIxDwAAAAOMQMAAAwDgEDAAAMA4BAwAAjEPAAAAA4xAwAADAOAQMAAAwDgEDAACMQ8AAAADjEDAAAMA4BAwAADAOAQMAAIxDwAAAAOMQMAAAwDgEDAAAMA4BAwAAjEPAAAAA4xAwAADAOAQMAAAwDgEDAACMQ8AAAADjEDAAAMA4BAwAADAOAQMAAIxDwAAAAOMQMAAAwDgEDAAAMA4BAwAAjEPAAAAA4xAwAADAOAQMAAAwDgEDAACMQ8AAAADjEDAAAMA4BAwAADAOAQMAAIxDwAAAAOMQMAAAwDgEDAAAMI4j1gMAuDx89dVXqqio6JJjHT7arI3vfayGg18qvVfyBR/P5/Opb9++XTAZgEuFgAFwSVRUVGjKlCldesw3uug4L7/8siZPntxFRwNwKRAwAC4Jn8+nl19+uUuOtWP/N1rzcZv+eVCSfphzxQUfz+fzdcFUAC4lAgbAJdG3b98uu8rh3P6pfnfsA/1o4lD985jvdskxAZiFm3gBAIBxCBgAAGAcAgYAABiHgAEAAMYhYAAAgHEIGAAAYBwCBgAAGKdTAfPcc89p2LBh8ng88ng88nq9+sMf/mDvP3HihIqKitSnTx/17NlTkyZNUjAYjDpGQ0ODCgsLlZKSon79+umRRx5Ra2tr1JpNmzZp5MiRcrvdGjRokMrLy8//DAEAQLfTqYDJysrSE088obq6Or377rsaP3687rzzTu3Zs0eSVFJSojfffFNr165VbW2tDhw4oLvvvtv+/La2NhUWFqqlpUVbt27VihUrVF5ernnz5tlr9u/fr8LCQuXn56u+vl7FxcV68MEHu+x3qAAAgG7AukBXXHGFtXz5cuvIkSOW0+m01q5da+/74IMPLEmW3++3LMuyNmzYYCUmJlqBQMBe89xzz1kej8cKh8OWZVlWWVmZdc0110R9jXvuucfy+XydmquxsdGSZDU2Np7vqQGIU6u3fWJdPXudtXrbJ7EeBUAX6+jP7/P+VQJtbW1au3atjh8/Lq/Xq7q6OkUiEU2YMMFeM2TIEA0cOFB+v195eXny+/267rrrlJGRYa/x+XyaMWOG9uzZoxEjRsjv90cdo31NcXHxWecJh8MKh8P241AoJEmKRCKKRCLne5oA4lBb20n7I89voHvp6HO60wGza9cueb1enThxQj179tTrr7+u3Nxc1dfXy+VyqXfv3lHrMzIyFAgEJEmBQCAqXtr3t+8725pQKKTm5mYlJyefdq6FCxdq/vz5p2yvrKxUSkpKZ08TQBzb+6UkObR37x5t+HJPrMcB0IWampo6tK7TATN48GDV19ersbFRr776qqZNm6ba2tpOD9jV5syZo9LSUvtxKBRSdna2CgoK5PF4YjgZgK7WtPOv0sf7lJt7jW674epYjwOgC7W/gnIunQ4Yl8ulQYMGSZJGjRqlnTt3asmSJbrnnnvU0tKiI0eORF2FCQaDyszMlCRlZmZqx44dUcdrf5fSt9f8/TuXgsGgPB7PGa++SJLb7Zbb7T5lu9PplNPp7OxpAohjSUmJ9kee30D30tHn9AX/OzAnT55UOBzWqFGj5HQ6VV1dbe/bt2+fGhoa5PV6JUler1e7du3SoUOH7DVVVVXyeDzKzc2113z7GO1r2o8BAADQqSswc+bM0a233qqBAwfq6NGjWrVqlTZt2qSKigqlpaVp+vTpKi0tVXp6ujwej2bNmiWv16u8vDxJUkFBgXJzczV16lQtWrRIgUBAc+fOVVFRkX315OGHH9bSpUtVVlamBx54QBs3btSaNWu0fv36rj97AABgpE4FzKFDh3T//ffr4MGDSktL07Bhw1RRUaGJEydKkhYvXqzExERNmjRJ4XBYPp9Py5Ytsz8/KSlJ69at04wZM+T1epWamqpp06ZpwYIF9pqcnBytX79eJSUlWrJkibKysrR8+XL5fL4uOmUAAGC6BMuyrFgPcTGEQiGlpaWpsbGRm3iBbmbN9k9V9voHWnTXUP3zmO/GehwAXaijP7/5XUgAAMA4BAwAADAOAQMAAIxDwAAAAOMQMAAAwDgEDAAAMA4BAwAAjEPAAAAA4xAwAADAOAQMAAAwDgEDAACMQ8AAAADjEDAAAMA4BAwAADAOAQMAAIxDwAAAAOMQMAAAwDgEDAAAMA4BAwAAjEPAAAAA4xAwAADAOAQMAAAwDgEDAACMQ8AAAADjEDAAAMA4BAwAADAOAQMAAIxDwAAAAOMQMAAAwDgEDAAAMA4BAwAAjEPAAAAA4xAwAADAOAQMAAAwDgEDAACMQ8AAAADjEDAAAMA4BAwAADAOAQMAAIxDwAAAAOMQMAAAwDgEDAAAMA4BAwAAjEPAAAAA4xAwAADAOAQMAAAwDgEDAACMQ8AAAADjEDAAAMA4jlgPACD+/fGjL/X1sZZYj2H702dH7I8u1xexHeZb+vR06abvXxnrMYDLAgED4Kz++NGXmvrCjliPcVqvvHtQr7x7MNZjRPnt9B8SMcAlQMAAOKv2Ky9TxgzU6O+kx3iavzkcOq7qug90y6ihSvekxnocSdK7fzmsl7c3xNWVKqA761TALFy4UK+99po+/PBDJScn6x/+4R/05JNPavDgwfaaEydO6F//9V/1yiuvKBwOy+fzadmyZcrIyLDXNDQ0aMaMGaqpqVHPnj01bdo0LVy4UA7H/4+zadMmlZaWas+ePcrOztbcuXP1L//yLxd+xgDOy+jvpOvHI66K9RiSpKamJvU58oEm3pCllJSUWI9je3l7Q6xHAC4bnbqJt7a2VkVFRdq2bZuqqqoUiURUUFCg48eP22tKSkr05ptvau3ataqtrdWBAwd099132/vb2tpUWFiolpYWbd26VStWrFB5ebnmzZtnr9m/f78KCwuVn5+v+vp6FRcX68EHH1RFRUUXnDIAADBdp67AvPXWW1GPy8vL1a9fP9XV1Wns2LFqbGzUCy+8oFWrVmn8+PGSpJdeeklDhw7Vtm3blJeXp8rKSu3du1dvv/22MjIyNHz4cD322GOaPXu2Hn30UblcLj3//PPKycnR008/LUkaOnSotmzZosWLF8vn83XRqQMAAFNd0D0wjY2NkqT09L+9Ll5XV6dIJKIJEybYa4YMGaKBAwfK7/crLy9Pfr9f1113XdRLSj6fTzNmzNCePXs0YsQI+f3+qGO0rykuLj7jLOFwWOFw2H4cCoUkSZFIRJFI5EJOE7istbW12R/j5bnU2tpqf4yXmeLx+wSYqKPPn/MOmJMnT6q4uFg/+tGPdO2110qSAoGAXC6XevfuHbU2IyNDgUDAXvPteGnf377vbGtCoZCam5uVnJx8yjwLFy7U/PnzT9leWVkZV6+RA6ap/1KSHKqvf0+OL96L9ThRampqYj2CLZ6/T4BJmpqaOrTuvAOmqKhIu3fv1pYtW873EF1qzpw5Ki0ttR+HQiFlZ2eroKBAHo8nhpMBZmt9/6B++/EuDR8+Qrdd3z/W40iSmpubVVNTo/z8/NP+hSYW4vH7BJio/RWUczmvgJk5c6bWrVunzZs3Kysry96emZmplpYWHTlyJOoqTDAYVGZmpr1mx47of1MiGAza+9o/tm/79hqPx3PG/1m53W653e5TtjudTjmdzs6fJABJUlJSkv0xXp5L7ZeYHQ5H3MwUj98nwEQdff506l1IlmVp5syZev3117Vx40bl5ORE7R81apScTqeqq6vtbfv27VNDQ4O8Xq8kyev1ateuXTp06JC9pqqqSh6PR7m5ufaabx+jfU37MQAAwOWtU1dgioqKtGrVKv3ud79Tr1697HtW0tLSlJycrLS0NE2fPl2lpaVKT0+Xx+PRrFmz5PV6lZeXJ0kqKChQbm6upk6dqkWLFikQCGju3LkqKiqyr6A8/PDDWrp0qcrKyvTAAw9o48aNWrNmjdavX9/Fpw8AAEzUqSswzz33nBobGzVu3Dj179/f/rN69Wp7zeLFi3X77bdr0qRJGjt2rDIzM/Xaa6/Z+5OSkrRu3TolJSXJ6/VqypQpuv/++7VgwQJ7TU5OjtavX6+qqipdf/31evrpp7V8+XLeQg0AACR18gqMZVnnXNOjRw89++yzevbZZ8+45uqrr9aGDRvOepxx48bpvfe4kx8AAJyqU1dgAAAA4gEBAwAAjEPAAAAA4xAwAADAOAQMAAAwDgEDAACMQ8AAAADjEDAAAMA4BAwAADAOAQMAAIxDwAAAAOMQMAAAwDgEDAAAMA4BAwAAjEPAAAAA4xAwAADAOAQMAAAwDgEDAACMQ8AAAADjEDAAAMA4BAwAADAOAQMAAIxDwAAAAOMQMAAAwDgEDAAAMA4BAwAAjEPAAAAA4xAwAADAOAQMAAAwDgEDAACMQ8AAAADjEDAAAMA4BAwAADAOAQMAAIxDwAAAAOMQMAAAwDgEDAAAMA4BAwAAjEPAAAAA4xAwAADAOAQMAAAwDgEDAACMQ8AAAADjEDAAAMA4BAwAADAOAQMAAIxDwAAAAOMQMAAAwDgEDAAAMA4BAwAAjEPAAAAA4xAwAADAOAQMAAAwTqcDZvPmzbrjjjs0YMAAJSQk6I033ojab1mW5s2bp/79+ys5OVkTJkzQRx99FLXm8OHDmjx5sjwej3r37q3p06fr2LFjUWv+93//VzfddJN69Oih7OxsLVq0qPNnBwAAuqVOB8zx48d1/fXX69lnnz3t/kWLFulXv/qVnn/+eW3fvl2pqany+Xw6ceKEvWby5Mnas2ePqqqqtG7dOm3evFk/+9nP7P2hUEgFBQW6+uqrVVdXp6eeekqPPvqofv3rX5/HKQIAgO7G0dlPuPXWW3Xrrbeedp9lWXrmmWc0d+5c3XnnnZKk3/zmN8rIyNAbb7yhe++9Vx988IHeeust7dy5U6NHj5Yk/ed//qduu+02/eIXv9CAAQO0cuVKtbS06MUXX5TL5dI111yj+vp6/fKXv4wKHQAAcHnqdMCczf79+xUIBDRhwgR7W1pamsaMGSO/3697771Xfr9fvXv3tuNFkiZMmKDExERt375dd911l/x+v8aOHSuXy2Wv8fl8evLJJ/XNN9/oiiuuOOVrh8NhhcNh+3EoFJIkRSIRRSKRrjxN4LLS1tZmf4yX51Jra6v9MV5misfvE2Cijj5/ujRgAoGAJCkjIyNqe0ZGhr0vEAioX79+0UM4HEpPT49ak5OTc8ox2vedLmAWLlyo+fPnn7K9srJSKSkp53lGAOq/lCSH6uvfk+OL92I9TpSamppYj2CL5+8TYJKmpqYOrevSgImlOXPmqLS01H4cCoWUnZ2tgoICeTyeGE4GmK31/YP67ce7NHz4CN12ff9YjyNJam5uVk1NjfLz85WcnBzrcSTF5/cJMFH7Kyjn0qUBk5mZKUkKBoPq3///n8DBYFDDhw+31xw6dCjq81pbW3X48GH78zMzMxUMBqPWtD9uX/P33G633G73KdudTqecTuf5nRAAJSUl2R/j5bnUfonZ4XDEzUzx+H0CTNTR50+X/jswOTk5yszMVHV1tb0tFApp+/bt8nq9kiSv16sjR46orq7OXrNx40adPHlSY8aMsdds3rw56nWwqqoqDR48+LQvHwEAgMtLpwPm2LFjqq+vV319vaS/3bhbX1+vhoYGJSQkqLi4WI8//rh+//vfa9euXbr//vs1YMAA/fjHP5YkDR06VP/4j/+ohx56SDt27NA777yjmTNn6t5779WAAQMkST/5yU/kcrk0ffp07dmzR6tXr9aSJUuiXiICAACXr06/hPTuu+8qPz/fftweFdOmTVN5ebnKysp0/Phx/exnP9ORI0d044036q233lKPHj3sz1m5cqVmzpypW265RYmJiZo0aZJ+9atf2fvT0tJUWVmpoqIijRo1Sn379tW8efN4CzUAAJB0HgEzbtw4WZZ1xv0JCQlasGCBFixYcMY16enpWrVq1Vm/zrBhw/THP/6xs+MBAIDLAL8LCQAAGIeAAQAAxiFgAACAcQgYAABgHAIGAAAYh4ABAADG6Ta/CwnAxZPoPqD3Dx+W49P4+JewW8It2h3erba/tsnldp37Ey6B9w9/o0T3CUnDYz0KcFkgYACckzvjTb36+X69+nmsJ4m2dsfaWI8QxZ2RI+m2WI8BXBYIGADnFA7eoXvH9tConDi6ArNrt6697tq4uQJTt/8brdh8ItZjAJcNAgbAOZ0MD9D16cN1+3evivUokqSmpiYl/TlJE6+eqJSUlFiPI0lqbfxCJ8P1sR4DuGxwEy8AADAOAQMAAIxDwAAAAOMQMAAAwDgEDAAAMA4BAwAAjEPAAAAA4xAwAADAOAQMAAAwDgEDAACMQ8AAAADjEDAAAMA4BAwAADAOAQMAAIxDwAAAAOMQMAAAwDgEDAAAMA4BAwAAjEPAAAAA4xAwAADAOAQMAAAwDgEDAACMQ8AAAADjEDAAAMA4BAwAADAOAQMAAIxDwAAAAOMQMAAAwDgEDAAAMA4BAwAAjOOI9QAA4lvoRESStPnPX8Z4kv93OHRc1Z9IX/f+XOme1FiPI0l69y+HYz0CcFkhYACcVX3DEUnSa+99odfe+yK2w0Rx6J0/fBTrIU7Rp6cr1iMAlwUCBsBZFY0fJEkaPrC3PD2cMZ7mb7Z9EtQr7x7UvaP7K+97GbEex9anp0s3ff/KWI8BXBYIGABn9b0re+qX9wyP9RhRWlrCeuXdgxqZ3Vs/HnFVrMcBEAPcxAsAAIxDwAAAAOMQMAAAwDgEDAAAMA4BAwAAjEPAAAAA4xAwAADAOAQMAAAwDgEDAACME9cB8+yzz+o73/mOevTooTFjxmjHjh2xHgkAAMSBuP1VAqtXr1Zpaamef/55jRkzRs8884x8Pp/27dunfv36xXo8AJ301VdfqaKiokuOtWP/NwoH2vRO1X5FPr7igo/n8/nUt2/fLpgMwKWSYFmWFeshTmfMmDG64YYbtHTpUknSyZMnlZ2drVmzZunf//3fz/n5oVBIaWlpamxslMfjudjjAjiHlStXasqUKbEe47RefvllTZ48OdZjAFDHf37H5RWYlpYW1dXVac6cOfa2xMRETZgwQX6//7SfEw6HFQ6H7cehUEiSFIlEFIlELu7AAM5p/PjxWrFiRZcc6/CxZtW+v183X5+j9J7JF3y88ePH8/8JIE509LkYlwHz1Vdfqa2tTRkZGVHbMzIy9OGHH572cxYuXKj58+efsr2yslIpKSkXZU4AnZOWltZlx8m5KrNLjiWJ++uAONLU1NShdXEZMOdjzpw5Ki0ttR+HQiFlZ2eroKCAl5CAbqa5uVk1NTXKz89XcvKFX4EBED/aX0E5l7gMmL59+yopKUnBYDBqezAYVGbm6f/W5Xa75Xa7T9nudDrldDovypwAYqP9ErPD4eD5DXQzHX1Ox+XbqF0ul0aNGqXq6mp728mTJ1VdXS2v1xvDyQAAQDyIyyswklRaWqpp06Zp9OjR+uEPf6hnnnlGx48f109/+tNYjwYAAGIsbgPmnnvu0Zdffql58+YpEAho+PDheuutt065sRcAAFx+4jZgJGnmzJmaOXNmrMcAAABxJi7vgQEAADgbAgYAABiHgAEAAMYhYAAAgHEIGAAAYBwCBgAAGIeAAQAAxonrfwfmQliWJanjvxQKgDmamprU1NSkUCik1tbWWI8DoAu1/9xu/zl+Jt02YI4ePSpJys7OjvEkAACgs44ePaq0tLQz7k+wzpU4hjp58qQOHDigXr16KSEhIdbjAOhCX3zxhXJzc7V3715dddVVsR4HQBeyLEtHjx7VgAEDlJh45jtduu0VmMTERGVlZcV6DAAXQfsl5l69esnj8cR4GgBd7WxXXtpxEy8AADAOAQMAAIxDwAAwjsfj0c0338zLR8BlrNvexAsAALovrsAAAADjEDAAAMA4BAwAADAOAQPASA6HQ3fddVesxwAQIwQMAAAwDgED4LJ07NixWI8A4AIQMAAuuSlTpigpKemU3yTdv39//eAHP9DGjRvVv39/JSYmKiEhQampqVq0aNFZj+n3+9W/f38lJCQoISFB2dnZ2r17t71/3LhxSk5O1rRp0+R0OtWrV6+Lcm4ALg0CBsAl99hjj+nkyZNavHixve2TTz5RIBDQQw89pK+++krjx4/X//zP/6iyslIjR47U7Nmz5ff7T3u81tZW3XLLLWpqatJvf/tbLV++XIcPH9aNN94Yte7EiRPasGGDfvOb32jt2rUX9RwBXFz8Q3YAYqJ///7q1auX/vznP0v621WZ//7v/1Y4HJbDcervme3Ro4fuuOMOOzwcDofuuOMOvf7663riiSc0Z84cbdu2TWPGjJEk/f73v9edd96p8vJyTZs2TePGjVNtba327t2roUOHXroTBXBRcAUGQEzcd999+uijj+zfLL1u3TqNGDFCDodDgUBAo0ePltvttl8SCofD+utf/3raY+3cuVMOh8OOF0n6p3/6JyUkJOidd96xtzmdTuIF6CYIGAAxMW/ePEnS448/ru3bt6uxsVElJSWSpPHjx+v9999XcXGxXn31Vb399tvq0aOHIpHIBX3NpKSkC54bQHw49TotAFwCvXv31qBBg7Ry5Urt3r1bLpdLkydPliR9+umnGjt2rJ588klJUiAQ0IkTJ854rBtuuEGvvfaatm/fHvUSkmVZp9wHA6B74AoMgJh56KGHdODAAVVXV+umm26yt6enp8vv92v16tVas2aNhg8fftbjlJWVKTk5WQUFBVq5cqVeeukl3XfffUpLS9P9999/kc8CQCwQMABiprS0VImJiWppadHcuXPt7WvWrJHb7da9996rn/zkJxo7dqzS0tLOeJzExERVV1crJSVFU6ZM0QMPPKD09HRt2bLlUpwGgBjgXUgAAMA4XIEBAADGIWAAAIBxCBgAAGAcAgYAABiHgAEAAMYhYAAAgHEIGAAAYBwCBgAAGIeAAQAAxiFgAACAcQgYAABgHAIGAAAY5/8AoSbV1QC+2XsAAAAASUVORK5CYII=",
      "text/plain": [
       "<Figure size 640x480 with 1 Axes>"
      ]
     },
     "metadata": {},
     "output_type": "display_data"
    }
   ],
   "source": [
    "dfProdutos.boxplot(column=['valor'])\n",
    "plt.show()"
   ]
  },
  {
   "cell_type": "markdown",
   "metadata": {},
   "source": [
    "### CONSISTÊNCIA"
   ]
  },
  {
   "cell_type": "code",
   "execution_count": 29,
   "metadata": {},
   "outputs": [
    {
     "data": {
      "text/html": [
       "<div>\n",
       "<style scoped>\n",
       "    .dataframe tbody tr th:only-of-type {\n",
       "        vertical-align: middle;\n",
       "    }\n",
       "\n",
       "    .dataframe tbody tr th {\n",
       "        vertical-align: top;\n",
       "    }\n",
       "\n",
       "    .dataframe thead th {\n",
       "        text-align: right;\n",
       "    }\n",
       "</style>\n",
       "<table border=\"1\" class=\"dataframe\">\n",
       "  <thead>\n",
       "    <tr style=\"text-align: right;\">\n",
       "      <th></th>\n",
       "      <th>id</th>\n",
       "      <th>id_cliente</th>\n",
       "      <th>id_loja</th>\n",
       "      <th>id_produto</th>\n",
       "      <th>dt_venda</th>\n",
       "    </tr>\n",
       "  </thead>\n",
       "  <tbody>\n",
       "  </tbody>\n",
       "</table>\n",
       "</div>"
      ],
      "text/plain": [
       "Empty DataFrame\n",
       "Columns: [id, id_cliente, id_loja, id_produto, dt_venda]\n",
       "Index: []"
      ]
     },
     "execution_count": 29,
     "metadata": {},
     "output_type": "execute_result"
    }
   ],
   "source": [
    "dfVendas[~dfVendas.id_cliente.isin(dfClientes.id)]"
   ]
  },
  {
   "cell_type": "code",
   "execution_count": 30,
   "metadata": {},
   "outputs": [
    {
     "data": {
      "text/html": [
       "<div>\n",
       "<style scoped>\n",
       "    .dataframe tbody tr th:only-of-type {\n",
       "        vertical-align: middle;\n",
       "    }\n",
       "\n",
       "    .dataframe tbody tr th {\n",
       "        vertical-align: top;\n",
       "    }\n",
       "\n",
       "    .dataframe thead th {\n",
       "        text-align: right;\n",
       "    }\n",
       "</style>\n",
       "<table border=\"1\" class=\"dataframe\">\n",
       "  <thead>\n",
       "    <tr style=\"text-align: right;\">\n",
       "      <th></th>\n",
       "      <th>id</th>\n",
       "      <th>id_cliente</th>\n",
       "      <th>id_loja</th>\n",
       "      <th>id_produto</th>\n",
       "      <th>dt_venda</th>\n",
       "    </tr>\n",
       "  </thead>\n",
       "  <tbody>\n",
       "  </tbody>\n",
       "</table>\n",
       "</div>"
      ],
      "text/plain": [
       "Empty DataFrame\n",
       "Columns: [id, id_cliente, id_loja, id_produto, dt_venda]\n",
       "Index: []"
      ]
     },
     "execution_count": 30,
     "metadata": {},
     "output_type": "execute_result"
    }
   ],
   "source": [
    "dfVendas[~dfVendas.id_loja.isin(dfLojas.id)]"
   ]
  },
  {
   "cell_type": "code",
   "execution_count": 31,
   "metadata": {},
   "outputs": [
    {
     "data": {
      "text/html": [
       "<div>\n",
       "<style scoped>\n",
       "    .dataframe tbody tr th:only-of-type {\n",
       "        vertical-align: middle;\n",
       "    }\n",
       "\n",
       "    .dataframe tbody tr th {\n",
       "        vertical-align: top;\n",
       "    }\n",
       "\n",
       "    .dataframe thead th {\n",
       "        text-align: right;\n",
       "    }\n",
       "</style>\n",
       "<table border=\"1\" class=\"dataframe\">\n",
       "  <thead>\n",
       "    <tr style=\"text-align: right;\">\n",
       "      <th></th>\n",
       "      <th>id</th>\n",
       "      <th>id_cliente</th>\n",
       "      <th>id_loja</th>\n",
       "      <th>id_produto</th>\n",
       "      <th>dt_venda</th>\n",
       "    </tr>\n",
       "  </thead>\n",
       "  <tbody>\n",
       "  </tbody>\n",
       "</table>\n",
       "</div>"
      ],
      "text/plain": [
       "Empty DataFrame\n",
       "Columns: [id, id_cliente, id_loja, id_produto, dt_venda]\n",
       "Index: []"
      ]
     },
     "execution_count": 31,
     "metadata": {},
     "output_type": "execute_result"
    }
   ],
   "source": [
    "dfVendas[~dfVendas.id_produto.isin(dfProdutos.id)]"
   ]
  },
  {
   "cell_type": "code",
   "execution_count": 32,
   "metadata": {},
   "outputs": [
    {
     "data": {
      "text/html": [
       "<div>\n",
       "<style scoped>\n",
       "    .dataframe tbody tr th:only-of-type {\n",
       "        vertical-align: middle;\n",
       "    }\n",
       "\n",
       "    .dataframe tbody tr th {\n",
       "        vertical-align: top;\n",
       "    }\n",
       "\n",
       "    .dataframe thead th {\n",
       "        text-align: right;\n",
       "    }\n",
       "</style>\n",
       "<table border=\"1\" class=\"dataframe\">\n",
       "  <thead>\n",
       "    <tr style=\"text-align: right;\">\n",
       "      <th></th>\n",
       "      <th>id</th>\n",
       "      <th>id_venda</th>\n",
       "      <th>dt_pgto</th>\n",
       "    </tr>\n",
       "  </thead>\n",
       "  <tbody>\n",
       "  </tbody>\n",
       "</table>\n",
       "</div>"
      ],
      "text/plain": [
       "Empty DataFrame\n",
       "Columns: [id, id_venda, dt_pgto]\n",
       "Index: []"
      ]
     },
     "execution_count": 32,
     "metadata": {},
     "output_type": "execute_result"
    }
   ],
   "source": [
    "dfPag[~dfPag.id_venda.isin(dfVendas.id)]"
   ]
  },
  {
   "cell_type": "code",
   "execution_count": 34,
   "metadata": {},
   "outputs": [
    {
     "data": {
      "text/plain": [
       "id            928\n",
       "id_cliente    928\n",
       "id_loja       928\n",
       "id_produto    928\n",
       "dt_venda      928\n",
       "dtype: int64"
      ]
     },
     "execution_count": 34,
     "metadata": {},
     "output_type": "execute_result"
    }
   ],
   "source": [
    "dfVendas[~dfVendas.id.isin(dfPag.id_venda)].count()\n"
   ]
  }
 ],
 "metadata": {
  "kernelspec": {
   "display_name": "Python 3",
   "language": "python",
   "name": "python3"
  },
  "language_info": {
   "codemirror_mode": {
    "name": "ipython",
    "version": 3
   },
   "file_extension": ".py",
   "mimetype": "text/x-python",
   "name": "python",
   "nbconvert_exporter": "python",
   "pygments_lexer": "ipython3",
   "version": "3.11.2"
  }
 },
 "nbformat": 4,
 "nbformat_minor": 2
}
